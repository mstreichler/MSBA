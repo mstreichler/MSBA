{
 "cells": [
  {
   "cell_type": "markdown",
   "metadata": {
    "colab_type": "text",
    "id": "BrBmi2czRO5u"
   },
   "source": [
    "## Text Analysis Group Assignment #1\n",
    "\n",
    "Samir Epili - se7982\n",
    "\n",
    "Christian Lee - cnl878\n",
    "\n",
    "Dylan Nikol - drn497\n",
    "\n",
    "Luke Stevens - ls44426\n",
    "\n",
    "Matthew Streichler - mrs4732"
   ]
  },
  {
   "cell_type": "markdown",
   "metadata": {
    "colab_type": "text",
    "id": "IRDB0LQaLu-L"
   },
   "source": [
    "**We are scraping data from an Edmunds car forum to give advice/insights to brand, product, and advertising managers for future success in their respective car brand companies. As analytics consultants, we draw conclusions as to what car brands people are mostly talking about and attributes that are associated with them.**\n",
    "\n",
    "\n",
    "\n",
    "https://forums.edmunds.com/discussion/4119/general/x/project-cars-you-get-to-vote-on-hold-em-or-fold-em/p\n",
    "\n",
    "---\n",
    "\n"
   ]
  },
  {
   "cell_type": "code",
   "execution_count": 2,
   "metadata": {
    "colab": {
     "base_uri": "https://localhost:8080/",
     "height": 1000
    },
    "colab_type": "code",
    "id": "WS5rnphw3qXo",
    "outputId": "c32f5f1c-a4d4-4d62-97d1-31e33a793c16"
   },
   "outputs": [
    {
     "name": "stdout",
     "output_type": "stream",
     "text": [
      "Collecting selenium\n",
      "\u001b[?25l  Downloading https://files.pythonhosted.org/packages/80/d6/4294f0b4bce4de0abf13e17190289f9d0613b0a44e5dd6a7f5ca98459853/selenium-3.141.0-py2.py3-none-any.whl (904kB)\n",
      "\u001b[K     |████████████████████████████████| 911kB 3.0MB/s eta 0:00:01\n",
      "\u001b[?25hRequirement already satisfied: urllib3 in /opt/anaconda3/lib/python3.7/site-packages (from selenium) (1.24.2)\n",
      "Installing collected packages: selenium\n",
      "Successfully installed selenium-3.141.0\n",
      "/bin/sh: apt-get: command not found\n",
      "Unable to locate an executable at \"/Library/Java/JavaVirtualMachines/jdk-11.jdk/Contents/Home/bin/apt\" (-1)\n",
      "cp: /usr/lib/chromium-browser/chromedriver: No such file or directory\n"
     ]
    },
    {
     "ename": "WebDriverException",
     "evalue": "Message: 'chromedriver' executable needs to be in PATH. Please see https://sites.google.com/a/chromium.org/chromedriver/home\n",
     "output_type": "error",
     "traceback": [
      "\u001b[0;31m---------------------------------------------------------------------------\u001b[0m",
      "\u001b[0;31mFileNotFoundError\u001b[0m                         Traceback (most recent call last)",
      "\u001b[0;32m/opt/anaconda3/lib/python3.7/site-packages/selenium/webdriver/common/service.py\u001b[0m in \u001b[0;36mstart\u001b[0;34m(self)\u001b[0m\n\u001b[1;32m     75\u001b[0m                                             \u001b[0mstderr\u001b[0m\u001b[0;34m=\u001b[0m\u001b[0mself\u001b[0m\u001b[0;34m.\u001b[0m\u001b[0mlog_file\u001b[0m\u001b[0;34m,\u001b[0m\u001b[0;34m\u001b[0m\u001b[0;34m\u001b[0m\u001b[0m\n\u001b[0;32m---> 76\u001b[0;31m                                             stdin=PIPE)\n\u001b[0m\u001b[1;32m     77\u001b[0m         \u001b[0;32mexcept\u001b[0m \u001b[0mTypeError\u001b[0m\u001b[0;34m:\u001b[0m\u001b[0;34m\u001b[0m\u001b[0;34m\u001b[0m\u001b[0m\n",
      "\u001b[0;32m/opt/anaconda3/lib/python3.7/subprocess.py\u001b[0m in \u001b[0;36m__init__\u001b[0;34m(self, args, bufsize, executable, stdin, stdout, stderr, preexec_fn, close_fds, shell, cwd, env, universal_newlines, startupinfo, creationflags, restore_signals, start_new_session, pass_fds, encoding, errors, text)\u001b[0m\n\u001b[1;32m    774\u001b[0m                                 \u001b[0merrread\u001b[0m\u001b[0;34m,\u001b[0m \u001b[0merrwrite\u001b[0m\u001b[0;34m,\u001b[0m\u001b[0;34m\u001b[0m\u001b[0;34m\u001b[0m\u001b[0m\n\u001b[0;32m--> 775\u001b[0;31m                                 restore_signals, start_new_session)\n\u001b[0m\u001b[1;32m    776\u001b[0m         \u001b[0;32mexcept\u001b[0m\u001b[0;34m:\u001b[0m\u001b[0;34m\u001b[0m\u001b[0;34m\u001b[0m\u001b[0m\n",
      "\u001b[0;32m/opt/anaconda3/lib/python3.7/subprocess.py\u001b[0m in \u001b[0;36m_execute_child\u001b[0;34m(self, args, executable, preexec_fn, close_fds, pass_fds, cwd, env, startupinfo, creationflags, shell, p2cread, p2cwrite, c2pread, c2pwrite, errread, errwrite, restore_signals, start_new_session)\u001b[0m\n\u001b[1;32m   1521\u001b[0m                             \u001b[0merr_msg\u001b[0m \u001b[0;34m+=\u001b[0m \u001b[0;34m': '\u001b[0m \u001b[0;34m+\u001b[0m \u001b[0mrepr\u001b[0m\u001b[0;34m(\u001b[0m\u001b[0merr_filename\u001b[0m\u001b[0;34m)\u001b[0m\u001b[0;34m\u001b[0m\u001b[0;34m\u001b[0m\u001b[0m\n\u001b[0;32m-> 1522\u001b[0;31m                     \u001b[0;32mraise\u001b[0m \u001b[0mchild_exception_type\u001b[0m\u001b[0;34m(\u001b[0m\u001b[0merrno_num\u001b[0m\u001b[0;34m,\u001b[0m \u001b[0merr_msg\u001b[0m\u001b[0;34m,\u001b[0m \u001b[0merr_filename\u001b[0m\u001b[0;34m)\u001b[0m\u001b[0;34m\u001b[0m\u001b[0;34m\u001b[0m\u001b[0m\n\u001b[0m\u001b[1;32m   1523\u001b[0m                 \u001b[0;32mraise\u001b[0m \u001b[0mchild_exception_type\u001b[0m\u001b[0;34m(\u001b[0m\u001b[0merr_msg\u001b[0m\u001b[0;34m)\u001b[0m\u001b[0;34m\u001b[0m\u001b[0;34m\u001b[0m\u001b[0m\n",
      "\u001b[0;31mFileNotFoundError\u001b[0m: [Errno 2] No such file or directory: 'chromedriver': 'chromedriver'",
      "\nDuring handling of the above exception, another exception occurred:\n",
      "\u001b[0;31mWebDriverException\u001b[0m                        Traceback (most recent call last)",
      "\u001b[0;32m<ipython-input-2-201ce5a20f08>\u001b[0m in \u001b[0;36m<module>\u001b[0;34m\u001b[0m\n\u001b[1;32m     15\u001b[0m \u001b[0mchrome_options\u001b[0m\u001b[0;34m.\u001b[0m\u001b[0madd_argument\u001b[0m\u001b[0;34m(\u001b[0m\u001b[0;34m'--no-sandbox'\u001b[0m\u001b[0;34m)\u001b[0m\u001b[0;34m\u001b[0m\u001b[0;34m\u001b[0m\u001b[0m\n\u001b[1;32m     16\u001b[0m \u001b[0mchrome_options\u001b[0m\u001b[0;34m.\u001b[0m\u001b[0madd_argument\u001b[0m\u001b[0;34m(\u001b[0m\u001b[0;34m'--disable-dev-shm-usage'\u001b[0m\u001b[0;34m)\u001b[0m\u001b[0;34m\u001b[0m\u001b[0;34m\u001b[0m\u001b[0m\n\u001b[0;32m---> 17\u001b[0;31m \u001b[0mdriver\u001b[0m \u001b[0;34m=\u001b[0m \u001b[0mwebdriver\u001b[0m\u001b[0;34m.\u001b[0m\u001b[0mChrome\u001b[0m\u001b[0;34m(\u001b[0m\u001b[0;34m'chromedriver'\u001b[0m\u001b[0;34m,\u001b[0m \u001b[0moptions\u001b[0m\u001b[0;34m=\u001b[0m\u001b[0mchrome_options\u001b[0m\u001b[0;34m)\u001b[0m\u001b[0;34m\u001b[0m\u001b[0;34m\u001b[0m\u001b[0m\n\u001b[0m",
      "\u001b[0;32m/opt/anaconda3/lib/python3.7/site-packages/selenium/webdriver/chrome/webdriver.py\u001b[0m in \u001b[0;36m__init__\u001b[0;34m(self, executable_path, port, options, service_args, desired_capabilities, service_log_path, chrome_options, keep_alive)\u001b[0m\n\u001b[1;32m     71\u001b[0m             \u001b[0mservice_args\u001b[0m\u001b[0;34m=\u001b[0m\u001b[0mservice_args\u001b[0m\u001b[0;34m,\u001b[0m\u001b[0;34m\u001b[0m\u001b[0;34m\u001b[0m\u001b[0m\n\u001b[1;32m     72\u001b[0m             log_path=service_log_path)\n\u001b[0;32m---> 73\u001b[0;31m         \u001b[0mself\u001b[0m\u001b[0;34m.\u001b[0m\u001b[0mservice\u001b[0m\u001b[0;34m.\u001b[0m\u001b[0mstart\u001b[0m\u001b[0;34m(\u001b[0m\u001b[0;34m)\u001b[0m\u001b[0;34m\u001b[0m\u001b[0;34m\u001b[0m\u001b[0m\n\u001b[0m\u001b[1;32m     74\u001b[0m \u001b[0;34m\u001b[0m\u001b[0m\n\u001b[1;32m     75\u001b[0m         \u001b[0;32mtry\u001b[0m\u001b[0;34m:\u001b[0m\u001b[0;34m\u001b[0m\u001b[0;34m\u001b[0m\u001b[0m\n",
      "\u001b[0;32m/opt/anaconda3/lib/python3.7/site-packages/selenium/webdriver/common/service.py\u001b[0m in \u001b[0;36mstart\u001b[0;34m(self)\u001b[0m\n\u001b[1;32m     81\u001b[0m                 raise WebDriverException(\n\u001b[1;32m     82\u001b[0m                     \"'%s' executable needs to be in PATH. %s\" % (\n\u001b[0;32m---> 83\u001b[0;31m                         os.path.basename(self.path), self.start_error_message)\n\u001b[0m\u001b[1;32m     84\u001b[0m                 )\n\u001b[1;32m     85\u001b[0m             \u001b[0;32melif\u001b[0m \u001b[0merr\u001b[0m\u001b[0;34m.\u001b[0m\u001b[0merrno\u001b[0m \u001b[0;34m==\u001b[0m \u001b[0merrno\u001b[0m\u001b[0;34m.\u001b[0m\u001b[0mEACCES\u001b[0m\u001b[0;34m:\u001b[0m\u001b[0;34m\u001b[0m\u001b[0;34m\u001b[0m\u001b[0m\n",
      "\u001b[0;31mWebDriverException\u001b[0m: Message: 'chromedriver' executable needs to be in PATH. Please see https://sites.google.com/a/chromium.org/chromedriver/home\n"
     ]
    }
   ],
   "source": [
    "!pip install selenium\n",
    "!apt-get -q update # to update ubuntu to correctly run apt install\n",
    "!apt install -yq chromium-chromedriver\n",
    "!cp /usr/lib/chromium-browser/chromedriver /usr/bin\n",
    "\n",
    "import pandas as pd\n",
    "import numpy as np\n",
    "import re\n",
    "\n",
    "import sys\n",
    "sys.path.insert(0,'/usr/lib/chromium-browser/chromedriver')\n",
    "from selenium import webdriver\n",
    "chrome_options = webdriver.ChromeOptions()\n",
    "chrome_options.add_argument('--headless')\n",
    "chrome_options.add_argument('--no-sandbox')\n",
    "chrome_options.add_argument('--disable-dev-shm-usage')\n",
    "driver = webdriver.Chrome('chromedriver', options=chrome_options)"
   ]
  },
  {
   "cell_type": "code",
   "execution_count": 7,
   "metadata": {
    "colab": {},
    "colab_type": "code",
    "id": "r3AH1wjO4CXl"
   },
   "outputs": [],
   "source": [
    "cars = pd.read_csv(\"/Users/matthewstreichler/Desktop/MSBA/Fall Semester/MIS 284N/Homework/HW1/car_models_and_brands.csv\")\n",
    "aspirational_phrases = cars[-26:]\n",
    "car_brand = cars[\"model\"].unique()\n",
    "cars_dict = cars.set_index('model').to_dict()\n",
    "cars_dict = cars_dict['brand']"
   ]
  },
  {
   "cell_type": "code",
   "execution_count": 8,
   "metadata": {
    "colab": {},
    "colab_type": "code",
    "id": "dUHaZH0R4C5_"
   },
   "outputs": [],
   "source": [
    "def model_replace(s):\n",
    "    for key in cars_dict:\n",
    "        if key in s:\n",
    "            s = s.replace(key, cars_dict[key])\n",
    "            s = re.sub(r\"\\b{}\\b\".format(cars_dict[key]), str(cars_dict[key]), s)\n",
    "    return s"
   ]
  },
  {
   "cell_type": "code",
   "execution_count": 6,
   "metadata": {
    "colab": {
     "base_uri": "https://localhost:8080/",
     "height": 33
    },
    "colab_type": "code",
    "id": "gdSYkP9j55YE",
    "outputId": "a81e5759-74bc-4016-b359-0f4250ae41ca"
   },
   "outputs": [
    {
     "name": "stdout",
     "output_type": "stream",
     "text": [
      "Edmunds data exported to raw_data.csv :)\n"
     ]
    }
   ],
   "source": [
    "page_range = (range(1,120))\n",
    "comments = pd.DataFrame(columns = ['Date','user_id','comments']) \n",
    "\n",
    "# initialize dictionary\n",
    "from collections import defaultdict\n",
    "from selenium import common\n",
    "\n",
    "car_freq = defaultdict(int)\n",
    "\n",
    "driver.set_page_load_timeout(20) # set whatever time out limit you want\n",
    "\n",
    "for page in page_range:\n",
    "    try:\n",
    "\n",
    "        driver.get('https://forums.edmunds.com/discussion/4119/general/x/project-cars-you-get-to-vote-on-hold-em-or-fold-em/p' + str(page))\n",
    "        ids = driver.find_elements_by_xpath(\"//*[contains(@id,'Comment_')]\")\n",
    "        comment_ids = []\n",
    "        for i in ids:\n",
    "            comment_ids.append(i.get_attribute('id'))\n",
    "\n",
    "        for x in comment_ids:\n",
    "            #Extract dates from for each user on a page\n",
    "            user_date = driver.find_elements_by_xpath('//*[@id=\"' + x +'\"]/div/div[2]/div[2]/span[1]/a/time')[0]\n",
    "            date = user_date.get_attribute('title')\n",
    "\n",
    "            #Extract user ids from each user on a page\n",
    "            userid_element = driver.find_elements_by_xpath('//*[@id=\"' + x +'\"]/div/div[2]/div[1]/span[1]/a[2]')[0]\n",
    "            userid = userid_element.text\n",
    "\n",
    "            #Extract Message for each user on a page\n",
    "            user_message = driver.find_elements_by_xpath('//*[@id=\"' + x +'\"]/div/div[3]/div/div[1]')[0]\n",
    "            comment = user_message.text\n",
    "                                      \n",
    "            #Adding date, userid and comment for each user in a dataframe    \n",
    "            comments.loc[len(comments)] = [date,userid,comment]\n",
    "\n",
    "    except common.exceptions.TimeoutException:\n",
    "        continue # go onto next page / itteration of forloop\n",
    "\n",
    "for i in range((comments.shape[0])): \n",
    "    comments.loc[i,'comments'] = comments.loc[i,'comments'].lower()\n",
    "\n",
    "    \n",
    "comments.to_csv('raw_data.csv')\n",
    "print(\"Edmunds data exported to raw_data.csv :)\")"
   ]
  },
  {
   "cell_type": "code",
   "execution_count": 9,
   "metadata": {
    "colab": {},
    "colab_type": "code",
    "id": "goIysskHVru4"
   },
   "outputs": [],
   "source": [
    "df = pd.read_csv('/Users/matthewstreichler/Desktop/MSBA/Fall Semester/MIS 284N/Homework/HW1/raw_data.csv')\n",
    "\n",
    "# replacing car models with the brand name\n",
    "df['comments'] = df['comments'].astype(str).map(model_replace)\n",
    "text = df['comments']"
   ]
  },
  {
   "cell_type": "code",
   "execution_count": 10,
   "metadata": {
    "colab": {},
    "colab_type": "code",
    "id": "palwzo2MaQLy"
   },
   "outputs": [],
   "source": [
    "from sklearn.feature_extraction.text import CountVectorizer\n",
    "\n",
    "CountVec = CountVectorizer(ngram_range=(1,1), # to use bigrams ngram_range=(2,2)\n",
    "                           stop_words='english')\n",
    "\n",
    "# transform the vectorized count\n",
    "Count_data = CountVec.fit_transform(text)\n",
    " \n",
    "#create dataframe of the counts for each word\n",
    "cv_dataframe=pd.DataFrame(Count_data.toarray(),columns=CountVec.get_feature_names())"
   ]
  },
  {
   "cell_type": "code",
   "execution_count": 11,
   "metadata": {
    "colab": {},
    "colab_type": "code",
    "id": "tkx-CaVsaQ_H"
   },
   "outputs": [],
   "source": [
    "# function to only change the word counts to be 1 per comments\n",
    "def count_fix(s):\n",
    "    if s > 1:\n",
    "        return 1\n",
    "    else:\n",
    "        return s"
   ]
  },
  {
   "cell_type": "code",
   "execution_count": 12,
   "metadata": {
    "colab": {},
    "colab_type": "code",
    "id": "rikegDDmaQtq"
   },
   "outputs": [],
   "source": [
    "# changing the counts to just count words once per comment\n",
    "bow_counts = cv_dataframe.applymap(count_fix)"
   ]
  },
  {
   "cell_type": "code",
   "execution_count": 13,
   "metadata": {
    "colab": {},
    "colab_type": "code",
    "id": "iyyHvLOZaNbb"
   },
   "outputs": [],
   "source": [
    "# function to sum the mention counts of each word\n",
    "def sum_words(s):\n",
    "    return sum(s)\n"
   ]
  },
  {
   "cell_type": "code",
   "execution_count": 14,
   "metadata": {
    "colab": {
     "base_uri": "https://localhost:8080/",
     "height": 200
    },
    "colab_type": "code",
    "id": "-kDfLVZXaNPQ",
    "outputId": "eef85a81-e7ec-4b46-9b77-d1aa7ca0ad76"
   },
   "outputs": [
    {
     "data": {
      "text/plain": [
       "car       2780\n",
       "like      1779\n",
       "just      1243\n",
       "think     1196\n",
       "good       860\n",
       "really     843\n",
       "don        829\n",
       "old        764\n",
       "nice       704\n",
       "looks      687\n",
       "dtype: int64"
      ]
     },
     "execution_count": 14,
     "metadata": {},
     "output_type": "execute_result"
    }
   ],
   "source": [
    "# summing the word frequencies\n",
    "\n",
    "freqs = bow_counts.apply(sum_words).sort_values(ascending = False)\n",
    "\n",
    "# storing frequency counts in csv file\n",
    "\n",
    "#freqs.to_csv('frequencies.csv')\n",
    "freqs[:10]"
   ]
  },
  {
   "cell_type": "markdown",
   "metadata": {
    "colab_type": "text",
    "id": "R8KmC3MmNtPG"
   },
   "source": [
    "**PRINT FREQUENCY TABLE (1x10)**\n",
    "\n",
    "\n",
    "\n",
    "\n"
   ]
  },
  {
   "cell_type": "code",
   "execution_count": 15,
   "metadata": {
    "colab": {},
    "colab_type": "code",
    "id": "cK9thAk0xB7Y"
   },
   "outputs": [],
   "source": [
    "# list of the top ten cars mentioned and the top five cars mentioned\n",
    "top_ten = ['chevrolet', 'ford', 'porsche', 'mercedes', 'dodge', 'honda', 'toyota', 'chrysler', 'pontiac', 'bmw']\n",
    "top_five = ['chevrolet', 'ford', 'porsche', 'mercedes', 'dodge']\n",
    "\n",
    "top_ten_bow = bow_counts[top_ten]\n",
    "top_five_bow = bow_counts[top_five]\n",
    "\n",
    "# top five mentioned attributes\n",
    "top_att = ['engine', 'price', 'interior', 'hp','rust']\n",
    "\n",
    "# create car brands matrix \n",
    "brand_matrix = pd.DataFrame(columns = top_ten)\n",
    "for cars in top_ten:\n",
    "    brand_matrix = brand_matrix.append(pd.Series(0, index=brand_matrix.columns), ignore_index=True)\n",
    "brand_matrix['cars'] = top_ten\n",
    "brand_matrix = brand_matrix.set_index('cars')"
   ]
  },
  {
   "cell_type": "code",
   "execution_count": 16,
   "metadata": {
    "colab": {},
    "colab_type": "code",
    "id": "Kt_KVfu96hOj"
   },
   "outputs": [],
   "source": [
    "# calculate lift function\n",
    "def calc_lift(a, b):\n",
    "    total_size = len(df)\n",
    "    filter_a = df[df['comments'].str.contains(a)]\n",
    "    num_a = len(filter_a)\n",
    "    num_b = len(df[df['comments'].str.contains(b)])\n",
    "    num_a_b = len(filter_a['comments'][filter_a['comments'].str.contains(b)])\n",
    "    return total_size*float(num_a_b)/float(num_a*num_b)\n"
   ]
  },
  {
   "cell_type": "code",
   "execution_count": 17,
   "metadata": {
    "colab": {},
    "colab_type": "code",
    "id": "q5qM642yho5y"
   },
   "outputs": [],
   "source": [
    "## halfing functions\n",
    "def half_lift(df):\n",
    "    i = 0\n",
    "    while i < len(df.columns):\n",
    "        j = 0\n",
    "        while j < i + 1:\n",
    "            if i == j:\n",
    "                df[df.columns[j]][df.index[i]] = ' '\n",
    "            else:\n",
    "                df[df.columns[j]][df.index[i]] = ' ' \n",
    "            j += 1\n",
    "            i += 1\n",
    "    return df\n",
    "\n",
    "def half_mds(df):\n",
    "    i = 0\n",
    "    while i < len(df.columns):\n",
    "        j = 0\n",
    "        while j < i + 1:\n",
    "            if i == j:\n",
    "                df[df.columns[j]][df.index[i]] = 0\n",
    "            else:\n",
    "                df[df.columns[j]][df.index[i]] = ' '\n",
    "            j += 1\n",
    "        i += 1\n",
    "    return df"
   ]
  },
  {
   "cell_type": "code",
   "execution_count": 20,
   "metadata": {
    "colab": {
     "base_uri": "https://localhost:8080/",
     "height": 394
    },
    "colab_type": "code",
    "id": "JFBdSQzBGUNE",
    "outputId": "6bd8161c-af0e-443e-de97-3b468d685610"
   },
   "outputs": [
    {
     "name": "stdout",
     "output_type": "stream",
     "text": [
      "Lift matrix of brands:\n"
     ]
    },
    {
     "ename": "IndexError",
     "evalue": "index 10 is out of bounds for axis 0 with size 10",
     "output_type": "error",
     "traceback": [
      "\u001b[0;31m---------------------------------------------------------------------------\u001b[0m",
      "\u001b[0;31mIndexError\u001b[0m                                Traceback (most recent call last)",
      "\u001b[0;32m<ipython-input-20-6600b1f5a80c>\u001b[0m in \u001b[0;36m<module>\u001b[0;34m\u001b[0m\n\u001b[1;32m     11\u001b[0m \u001b[0mprint\u001b[0m\u001b[0;34m(\u001b[0m\u001b[0;34m'Lift matrix of brands:'\u001b[0m\u001b[0;34m)\u001b[0m\u001b[0;34m\u001b[0m\u001b[0;34m\u001b[0m\u001b[0m\n\u001b[1;32m     12\u001b[0m \u001b[0mdissimilarity\u001b[0m \u001b[0;34m=\u001b[0m \u001b[0mcopy\u001b[0m\u001b[0;34m.\u001b[0m\u001b[0mdeepcopy\u001b[0m\u001b[0;34m(\u001b[0m\u001b[0mlift_matrix\u001b[0m\u001b[0;34m)\u001b[0m\u001b[0;34m\u001b[0m\u001b[0;34m\u001b[0m\u001b[0m\n\u001b[0;32m---> 13\u001b[0;31m \u001b[0mhalf_lift\u001b[0m\u001b[0;34m(\u001b[0m\u001b[0mlift_matrix\u001b[0m\u001b[0;34m)\u001b[0m\u001b[0;34m\u001b[0m\u001b[0;34m\u001b[0m\u001b[0m\n\u001b[0m",
      "\u001b[0;32m<ipython-input-17-fd75b3c00173>\u001b[0m in \u001b[0;36mhalf_lift\u001b[0;34m(df)\u001b[0m\n\u001b[1;32m      6\u001b[0m         \u001b[0;32mwhile\u001b[0m \u001b[0mj\u001b[0m \u001b[0;34m<\u001b[0m \u001b[0mi\u001b[0m \u001b[0;34m+\u001b[0m \u001b[0;36m1\u001b[0m\u001b[0;34m:\u001b[0m\u001b[0;34m\u001b[0m\u001b[0;34m\u001b[0m\u001b[0m\n\u001b[1;32m      7\u001b[0m             \u001b[0;32mif\u001b[0m \u001b[0mi\u001b[0m \u001b[0;34m==\u001b[0m \u001b[0mj\u001b[0m\u001b[0;34m:\u001b[0m\u001b[0;34m\u001b[0m\u001b[0;34m\u001b[0m\u001b[0m\n\u001b[0;32m----> 8\u001b[0;31m                 \u001b[0mdf\u001b[0m\u001b[0;34m[\u001b[0m\u001b[0mdf\u001b[0m\u001b[0;34m.\u001b[0m\u001b[0mcolumns\u001b[0m\u001b[0;34m[\u001b[0m\u001b[0mj\u001b[0m\u001b[0;34m]\u001b[0m\u001b[0;34m]\u001b[0m\u001b[0;34m[\u001b[0m\u001b[0mdf\u001b[0m\u001b[0;34m.\u001b[0m\u001b[0mindex\u001b[0m\u001b[0;34m[\u001b[0m\u001b[0mi\u001b[0m\u001b[0;34m]\u001b[0m\u001b[0;34m]\u001b[0m \u001b[0;34m=\u001b[0m \u001b[0;34m' '\u001b[0m\u001b[0;34m\u001b[0m\u001b[0;34m\u001b[0m\u001b[0m\n\u001b[0m\u001b[1;32m      9\u001b[0m             \u001b[0;32melse\u001b[0m\u001b[0;34m:\u001b[0m\u001b[0;34m\u001b[0m\u001b[0;34m\u001b[0m\u001b[0m\n\u001b[1;32m     10\u001b[0m                 \u001b[0mdf\u001b[0m\u001b[0;34m[\u001b[0m\u001b[0mdf\u001b[0m\u001b[0;34m.\u001b[0m\u001b[0mcolumns\u001b[0m\u001b[0;34m[\u001b[0m\u001b[0mj\u001b[0m\u001b[0;34m]\u001b[0m\u001b[0;34m]\u001b[0m\u001b[0;34m[\u001b[0m\u001b[0mdf\u001b[0m\u001b[0;34m.\u001b[0m\u001b[0mindex\u001b[0m\u001b[0;34m[\u001b[0m\u001b[0mi\u001b[0m\u001b[0;34m]\u001b[0m\u001b[0;34m]\u001b[0m \u001b[0;34m=\u001b[0m \u001b[0;34m' '\u001b[0m\u001b[0;34m\u001b[0m\u001b[0;34m\u001b[0m\u001b[0m\n",
      "\u001b[0;32m/opt/anaconda3/lib/python3.7/site-packages/pandas/core/indexes/base.py\u001b[0m in \u001b[0;36m__getitem__\u001b[0;34m(self, key)\u001b[0m\n\u001b[1;32m   4278\u001b[0m         \u001b[0;32mif\u001b[0m \u001b[0mis_scalar\u001b[0m\u001b[0;34m(\u001b[0m\u001b[0mkey\u001b[0m\u001b[0;34m)\u001b[0m\u001b[0;34m:\u001b[0m\u001b[0;34m\u001b[0m\u001b[0;34m\u001b[0m\u001b[0m\n\u001b[1;32m   4279\u001b[0m             \u001b[0mkey\u001b[0m \u001b[0;34m=\u001b[0m \u001b[0mcom\u001b[0m\u001b[0;34m.\u001b[0m\u001b[0mcast_scalar_indexer\u001b[0m\u001b[0;34m(\u001b[0m\u001b[0mkey\u001b[0m\u001b[0;34m)\u001b[0m\u001b[0;34m\u001b[0m\u001b[0;34m\u001b[0m\u001b[0m\n\u001b[0;32m-> 4280\u001b[0;31m             \u001b[0;32mreturn\u001b[0m \u001b[0mgetitem\u001b[0m\u001b[0;34m(\u001b[0m\u001b[0mkey\u001b[0m\u001b[0;34m)\u001b[0m\u001b[0;34m\u001b[0m\u001b[0;34m\u001b[0m\u001b[0m\n\u001b[0m\u001b[1;32m   4281\u001b[0m \u001b[0;34m\u001b[0m\u001b[0m\n\u001b[1;32m   4282\u001b[0m         \u001b[0;32mif\u001b[0m \u001b[0misinstance\u001b[0m\u001b[0;34m(\u001b[0m\u001b[0mkey\u001b[0m\u001b[0;34m,\u001b[0m \u001b[0mslice\u001b[0m\u001b[0;34m)\u001b[0m\u001b[0;34m:\u001b[0m\u001b[0;34m\u001b[0m\u001b[0;34m\u001b[0m\u001b[0m\n",
      "\u001b[0;31mIndexError\u001b[0m: index 10 is out of bounds for axis 0 with size 10"
     ]
    }
   ],
   "source": [
    "# calculate lift between brands\n",
    "import copy\n",
    "\n",
    "df = df.dropna(how='any')\n",
    "lift_matrix = copy.deepcopy(brand_matrix)\n",
    "\n",
    "for brand1, series in list(lift_matrix.iterrows()):\n",
    "    for brand2 in series.index:\n",
    "        lift_matrix[brand2].loc[brand1] = calc_lift(brand1, brand2)\n",
    "\n",
    "print('Lift matrix of brands:')\n",
    "dissimilarity = copy.deepcopy(lift_matrix)\n",
    "half_lift(lift_matrix)"
   ]
  },
  {
   "cell_type": "markdown",
   "metadata": {
    "colab_type": "text",
    "id": "PQD0twUOvktw"
   },
   "source": [
    "**Task B**.\n",
    "\n",
    "\n",
    "We extracted unstructured data from an Edmunds forum titled “Project Cars -- You Get to Vote on ‘Hold ‘em or Fold ‘em’” and found the top ten car brands that users were posting about in order to offer beneficial insights to car brand managers. After extracting the comments from the forum and isolating the occurence of brand names, we calculated lift ratios to determine which car brands were most commonly associated with one another. We found that Chrysler and Dodge were the two most commonly associated car brands (lift = 3.40787). This makes sense considering the two brands are owned by the same company, Fiat Chrysler Automobiles, though it still merits investigation to determine whether those comments were simply talking about the brand or comparing two very different cars. Chrysler was involved with an entirely separate car brand in Pontiac (lift = 3.10152), which merited the second-highest association. Given that Pontiac's associate with Chevrolet (lift = 2.59056) was the third highest, this likely tells us that users were discussing Pontiac's attributes versus that of other brands more often than most other car brands. As Pontiac is a defunct car brand, and the forum is dedicated to determining whether or not to save an old car or sell it, this high association with other brands makes sense.\n",
    "\n",
    "Given that Pontiac is a defuct brand, we would likely be taking this analysis to a Chrysler or Chevrolet brand manager. Since the associations were high with Pontiac, it would be reasonable to assume commenters were suggesting that owners of Pontiacs should look into the purchase of either a Chevrolet or Chrysler instead of keeping their old Pontiac. Taking a deep dive into these comments to understand why this might be the case should prove useful to the brand manager of either Chrysler or Chevrolet, as it will give them insights into why owners of their cars would suggest them to other people, or why customers in the market for a new car would consider Chrysler or Chevrolet following the purchase of a Pontiac.\n"
   ]
  },
  {
   "cell_type": "code",
   "execution_count": 21,
   "metadata": {
    "colab": {
     "base_uri": "https://localhost:8080/",
     "height": 394
    },
    "colab_type": "code",
    "id": "VD2LhG_1akJs",
    "outputId": "b7aaa062-2581-4708-c033-79b45d2f8764"
   },
   "outputs": [
    {
     "name": "stdout",
     "output_type": "stream",
     "text": [
      "Lift dissimilarity matrix of brands:\n"
     ]
    },
    {
     "data": {
      "text/html": [
       "<div>\n",
       "<style scoped>\n",
       "    .dataframe tbody tr th:only-of-type {\n",
       "        vertical-align: middle;\n",
       "    }\n",
       "\n",
       "    .dataframe tbody tr th {\n",
       "        vertical-align: top;\n",
       "    }\n",
       "\n",
       "    .dataframe thead th {\n",
       "        text-align: right;\n",
       "    }\n",
       "</style>\n",
       "<table border=\"1\" class=\"dataframe\">\n",
       "  <thead>\n",
       "    <tr style=\"text-align: right;\">\n",
       "      <th></th>\n",
       "      <th>chevrolet</th>\n",
       "      <th>ford</th>\n",
       "      <th>porsche</th>\n",
       "      <th>mercedes</th>\n",
       "      <th>dodge</th>\n",
       "      <th>honda</th>\n",
       "      <th>toyota</th>\n",
       "      <th>chrysler</th>\n",
       "      <th>pontiac</th>\n",
       "      <th>bmw</th>\n",
       "    </tr>\n",
       "    <tr>\n",
       "      <th>cars</th>\n",
       "      <th></th>\n",
       "      <th></th>\n",
       "      <th></th>\n",
       "      <th></th>\n",
       "      <th></th>\n",
       "      <th></th>\n",
       "      <th></th>\n",
       "      <th></th>\n",
       "      <th></th>\n",
       "      <th></th>\n",
       "    </tr>\n",
       "  </thead>\n",
       "  <tbody>\n",
       "    <tr>\n",
       "      <td>chevrolet</td>\n",
       "      <td>0</td>\n",
       "      <td>0.396334</td>\n",
       "      <td>0.73173</td>\n",
       "      <td>1.00638</td>\n",
       "      <td>0.435844</td>\n",
       "      <td>0.564617</td>\n",
       "      <td>0.704075</td>\n",
       "      <td>0.595611</td>\n",
       "      <td>0.386017</td>\n",
       "      <td>0.703707</td>\n",
       "    </tr>\n",
       "    <tr>\n",
       "      <td>ford</td>\n",
       "      <td></td>\n",
       "      <td>0</td>\n",
       "      <td>0.808116</td>\n",
       "      <td>0.955184</td>\n",
       "      <td>0.454122</td>\n",
       "      <td>0.654983</td>\n",
       "      <td>0.667566</td>\n",
       "      <td>0.342957</td>\n",
       "      <td>0.504017</td>\n",
       "      <td>1.14565</td>\n",
       "    </tr>\n",
       "    <tr>\n",
       "      <td>porsche</td>\n",
       "      <td></td>\n",
       "      <td></td>\n",
       "      <td>0</td>\n",
       "      <td>0.390624</td>\n",
       "      <td>0.782311</td>\n",
       "      <td>0.684522</td>\n",
       "      <td>0.861357</td>\n",
       "      <td>2.06783</td>\n",
       "      <td>1.91452</td>\n",
       "      <td>0.828913</td>\n",
       "    </tr>\n",
       "    <tr>\n",
       "      <td>mercedes</td>\n",
       "      <td></td>\n",
       "      <td></td>\n",
       "      <td></td>\n",
       "      <td>0</td>\n",
       "      <td>1.00174</td>\n",
       "      <td>1.1687</td>\n",
       "      <td>0.711585</td>\n",
       "      <td>1.76522</td>\n",
       "      <td>6.53739</td>\n",
       "      <td>0.404348</td>\n",
       "    </tr>\n",
       "    <tr>\n",
       "      <td>dodge</td>\n",
       "      <td></td>\n",
       "      <td></td>\n",
       "      <td></td>\n",
       "      <td></td>\n",
       "      <td>0</td>\n",
       "      <td>0.601043</td>\n",
       "      <td>0.580384</td>\n",
       "      <td>0.293439</td>\n",
       "      <td>0.442744</td>\n",
       "      <td>1.03513</td>\n",
       "    </tr>\n",
       "    <tr>\n",
       "      <td>honda</td>\n",
       "      <td></td>\n",
       "      <td></td>\n",
       "      <td></td>\n",
       "      <td></td>\n",
       "      <td></td>\n",
       "      <td>0</td>\n",
       "      <td>0.636895</td>\n",
       "      <td>0.403478</td>\n",
       "      <td>0.560348</td>\n",
       "      <td>0.597191</td>\n",
       "    </tr>\n",
       "    <tr>\n",
       "      <td>toyota</td>\n",
       "      <td></td>\n",
       "      <td></td>\n",
       "      <td></td>\n",
       "      <td></td>\n",
       "      <td></td>\n",
       "      <td></td>\n",
       "      <td>0</td>\n",
       "      <td>0.585819</td>\n",
       "      <td>0.606541</td>\n",
       "      <td>0.904541</td>\n",
       "    </tr>\n",
       "    <tr>\n",
       "      <td>chrysler</td>\n",
       "      <td></td>\n",
       "      <td></td>\n",
       "      <td></td>\n",
       "      <td></td>\n",
       "      <td></td>\n",
       "      <td></td>\n",
       "      <td></td>\n",
       "      <td>0</td>\n",
       "      <td>0.322422</td>\n",
       "      <td>0.39087</td>\n",
       "    </tr>\n",
       "    <tr>\n",
       "      <td>pontiac</td>\n",
       "      <td></td>\n",
       "      <td></td>\n",
       "      <td></td>\n",
       "      <td></td>\n",
       "      <td></td>\n",
       "      <td></td>\n",
       "      <td></td>\n",
       "      <td></td>\n",
       "      <td>0</td>\n",
       "      <td>1.2063</td>\n",
       "    </tr>\n",
       "    <tr>\n",
       "      <td>bmw</td>\n",
       "      <td></td>\n",
       "      <td></td>\n",
       "      <td></td>\n",
       "      <td></td>\n",
       "      <td></td>\n",
       "      <td></td>\n",
       "      <td></td>\n",
       "      <td></td>\n",
       "      <td></td>\n",
       "      <td>0</td>\n",
       "    </tr>\n",
       "  </tbody>\n",
       "</table>\n",
       "</div>"
      ],
      "text/plain": [
       "          chevrolet      ford   porsche  mercedes     dodge     honda  \\\n",
       "cars                                                                    \n",
       "chevrolet         0  0.396334   0.73173   1.00638  0.435844  0.564617   \n",
       "ford                        0  0.808116  0.955184  0.454122  0.654983   \n",
       "porsche                               0  0.390624  0.782311  0.684522   \n",
       "mercedes                                        0   1.00174    1.1687   \n",
       "dodge                                                     0  0.601043   \n",
       "honda                                                               0   \n",
       "toyota                                                                  \n",
       "chrysler                                                                \n",
       "pontiac                                                                 \n",
       "bmw                                                                     \n",
       "\n",
       "             toyota  chrysler   pontiac       bmw  \n",
       "cars                                               \n",
       "chevrolet  0.704075  0.595611  0.386017  0.703707  \n",
       "ford       0.667566  0.342957  0.504017   1.14565  \n",
       "porsche    0.861357   2.06783   1.91452  0.828913  \n",
       "mercedes   0.711585   1.76522   6.53739  0.404348  \n",
       "dodge      0.580384  0.293439  0.442744   1.03513  \n",
       "honda      0.636895  0.403478  0.560348  0.597191  \n",
       "toyota            0  0.585819  0.606541  0.904541  \n",
       "chrysler                    0  0.322422   0.39087  \n",
       "pontiac                               0    1.2063  \n",
       "bmw                                             0  "
      ]
     },
     "execution_count": 21,
     "metadata": {},
     "output_type": "execute_result"
    }
   ],
   "source": [
    "dissimilarity = 1/dissimilarity\n",
    "dissimilarity_matrix = copy.deepcopy(dissimilarity)\n",
    "print('Lift dissimilarity matrix of brands:')\n",
    "half_mds(dissimilarity_matrix)"
   ]
  },
  {
   "cell_type": "code",
   "execution_count": 22,
   "metadata": {
    "colab": {
     "base_uri": "https://localhost:8080/",
     "height": 357
    },
    "colab_type": "code",
    "id": "BQ-oXHLAQYCO",
    "outputId": "89f6ea0d-3aea-46d6-ec4f-9f45d2da7109"
   },
   "outputs": [
    {
     "data": {
      "text/plain": [
       "<matplotlib.legend.Legend at 0x1a45c32210>"
      ]
     },
     "execution_count": 22,
     "metadata": {},
     "output_type": "execute_result"
    }
   ],
   "source": [
    "#MDS\n",
    "import matplotlib.pyplot as plt\n",
    "from sklearn import manifold\n",
    "\n",
    "adist = np.array(dissimilarity)\n",
    "amax = np.amax(adist)\n",
    "adist /= amax\n",
    "\n",
    "mds = manifold.MDS(n_components=2, dissimilarity=\"precomputed\", random_state=7)\n",
    "results = mds.fit(adist)\n",
    "\n",
    "coords = results.embedding_\n",
    "\n",
    "brand_pos = pd.DataFrame(coords).merge(pd.DataFrame(top_ten_bow.columns), left_index=True, right_index=True).set_index('0_y')\n",
    "\n",
    "s = 100\n",
    "fig = plt.figure(1)\n",
    "ax = plt.axes([0., 0., 1., 1.])\n",
    "xs = coords[:, 0]\n",
    "ys = coords[:, 1]\n",
    "plt.scatter(xs, ys, color='turquoise', s=s, lw=0, label='MDS')\n",
    "count = 0\n",
    "for x,y in zip(xs,ys):\n",
    "    label = list(brand_pos.index)\n",
    "    plt.annotate(label[count], # this is the text\n",
    "                 (x,y), # this is the point to label\n",
    "                 textcoords=\"offset points\", # how to position the text\n",
    "                 xytext=(1,10), # distance from text to points (x,y)\n",
    "                 ha='center')\n",
    "    count+=1\n",
    "plt.legend(scatterpoints=1, loc='best', shadow=False)"
   ]
  },
  {
   "cell_type": "code",
   "execution_count": 29,
   "metadata": {
    "colab": {},
    "colab_type": "code",
    "id": "tcpWBT0_emQF"
   },
   "outputs": [],
   "source": [
    "# car brands-attribute matrix dataframe\n",
    "\n",
    "model_att = pd.DataFrame(columns = top_att)\n",
    "for cars in top_ten:\n",
    "    model_att = model_att.append(pd.Series(0, index=model_att.columns), ignore_index=True)\n",
    "model_att['cars'] = top_ten\n",
    "model_att = model_att.set_index('cars')"
   ]
  },
  {
   "cell_type": "markdown",
   "metadata": {
    "colab_type": "text",
    "id": "RrAnpARg15gv"
   },
   "source": [
    "**Task C**.\n",
    "\n",
    "\n",
    "To further our analysis for brand managers, we analyzed the unstructured data to find out which attributes were most commonly talked about in relation to our top car brands. This would give brand managers a deeper insight as to what people typically enjoy, or may not enjoy, about their cars. We found that engine, price, interior, horse power (hp), rust, junk, save, and bad were the top attributes (based on word frequency). \n"
   ]
  },
  {
   "cell_type": "code",
   "execution_count": 28,
   "metadata": {
    "colab": {
     "base_uri": "https://localhost:8080/",
     "height": 344
    },
    "colab_type": "code",
    "id": "PdefIOv-f4tz",
    "outputId": "b4338791-47d0-4d17-dc15-0191d2d85445"
   },
   "outputs": [
    {
     "name": "stdout",
     "output_type": "stream",
     "text": [
      "The Top 5 attributes we chose to look at are:\n",
      "1. engine\n",
      "2. price\n",
      "3. interior\n",
      "4. hp\n",
      "5. rust\n",
      "\n"
     ]
    },
    {
     "data": {
      "text/html": [
       "<div>\n",
       "<style scoped>\n",
       "    .dataframe tbody tr th:only-of-type {\n",
       "        vertical-align: middle;\n",
       "    }\n",
       "\n",
       "    .dataframe tbody tr th {\n",
       "        vertical-align: top;\n",
       "    }\n",
       "\n",
       "    .dataframe thead th {\n",
       "        text-align: right;\n",
       "    }\n",
       "</style>\n",
       "<table border=\"1\" class=\"dataframe\">\n",
       "  <thead>\n",
       "    <tr style=\"text-align: right;\">\n",
       "      <th></th>\n",
       "      <th>engine</th>\n",
       "      <th>price</th>\n",
       "      <th>interior</th>\n",
       "      <th>hp</th>\n",
       "      <th>rust</th>\n",
       "    </tr>\n",
       "    <tr>\n",
       "      <th>cars</th>\n",
       "      <th></th>\n",
       "      <th></th>\n",
       "      <th></th>\n",
       "      <th></th>\n",
       "      <th></th>\n",
       "    </tr>\n",
       "  </thead>\n",
       "  <tbody>\n",
       "    <tr>\n",
       "      <td>chevrolet</td>\n",
       "      <td>1.60448</td>\n",
       "      <td>1.19113</td>\n",
       "      <td>1.69291</td>\n",
       "      <td>2.27892</td>\n",
       "      <td>1.55</td>\n",
       "    </tr>\n",
       "    <tr>\n",
       "      <td>ford</td>\n",
       "      <td>1.49718</td>\n",
       "      <td>1.03047</td>\n",
       "      <td>1.07376</td>\n",
       "      <td>1.80681</td>\n",
       "      <td>1.36613</td>\n",
       "    </tr>\n",
       "    <tr>\n",
       "      <td>porsche</td>\n",
       "      <td>2.56473</td>\n",
       "      <td>1.75933</td>\n",
       "      <td>0.742031</td>\n",
       "      <td>0.799111</td>\n",
       "      <td>1.75793</td>\n",
       "    </tr>\n",
       "    <tr>\n",
       "      <td>mercedes</td>\n",
       "      <td>1.33149</td>\n",
       "      <td>1.57023</td>\n",
       "      <td>1.30385</td>\n",
       "      <td>0.351038</td>\n",
       "      <td>1.37286</td>\n",
       "    </tr>\n",
       "    <tr>\n",
       "      <td>dodge</td>\n",
       "      <td>1.71771</td>\n",
       "      <td>1.05551</td>\n",
       "      <td>1.61624</td>\n",
       "      <td>2.43167</td>\n",
       "      <td>2.29406</td>\n",
       "    </tr>\n",
       "  </tbody>\n",
       "</table>\n",
       "</div>"
      ],
      "text/plain": [
       "            engine    price  interior        hp     rust\n",
       "cars                                                    \n",
       "chevrolet  1.60448  1.19113   1.69291   2.27892     1.55\n",
       "ford       1.49718  1.03047   1.07376   1.80681  1.36613\n",
       "porsche    2.56473  1.75933  0.742031  0.799111  1.75793\n",
       "mercedes   1.33149  1.57023   1.30385  0.351038  1.37286\n",
       "dodge      1.71771  1.05551   1.61624   2.43167  2.29406"
      ]
     },
     "execution_count": 28,
     "metadata": {},
     "output_type": "execute_result"
    }
   ],
   "source": [
    "# lifts for brand and attributes\n",
    "df = df.dropna(how='any')\n",
    "\n",
    "for brand, series in list(model_att.iterrows()):\n",
    "    for att in series.index:\n",
    "        model_att[att].loc[brand] = calc_lift(brand, att)\n",
    "#print('The five attributes we chose to look at are', top_att)\n",
    "\n",
    "\n",
    "top_att = ['engine','price','interior', 'hp', 'rust']\n",
    "print('The Top 5 attributes we chose to look at are:')\n",
    "for att in range(len(top_att)):\n",
    "    print('{}. '.format(att+1)+top_att[att])\n",
    "print(\"\")\n",
    "model_att[:5]"
   ]
  },
  {
   "cell_type": "code",
   "execution_count": 31,
   "metadata": {},
   "outputs": [
    {
     "data": {
      "text/plain": [
       "<generator object DataFrame.iterrows at 0x1a71d581d0>"
      ]
     },
     "execution_count": 31,
     "metadata": {},
     "output_type": "execute_result"
    }
   ],
   "source": [
    "model_att.iterrows()"
   ]
  },
  {
   "cell_type": "markdown",
   "metadata": {
    "colab_type": "text",
    "id": "OIcoQLRU5K0z"
   },
   "source": [
    "**Task D**.\n",
    "\n",
    "\n",
    "As seen above, \"engine\" was most commonly associated with Porsche, which should be expected given that Porsche is one of only two performance car brands on the list. It is interesting that BMW was not highly associated with engine, an issue that should be analyzed by BMW. It should be noted though, absent a sentiment analysis, it could be that Porsche is known for engine problems and BMW is not, which would explain the difference in the two association values. \n",
    "\n",
    "\"Price\" was most commonly associated with Porsche, another finding that is in line with the price differences of the most frequently discussed car brands. \n",
    "\n",
    "\"Interior\" was most commonly associated with Chevrolet, which, again absent a sentiment analysis, could mean the interior left something to be desired or was a strength of Chevrolet's. \n",
    "\n",
    "Horse power (\"hp\") was most commonly associated with Dodge and Chevrolet. Intuitively, we would assume that this is in relation the trucks and muscle cars that both brands produce, which rely on horse power as an appealing attribute. However, assumptions are never as good as analysis. The truth could be that users are complaining about the lack of horsepower in their Dodge and Chevrolet models, or talking about how it's not important to them, or some other negative sentiment that could be rooted out with bi- and trigram sentiment analysis. \n",
    "\n",
    "Finally, \"rust\" was most commonly associated with Dodge. It is probably safe to assume that rust rarely comes up if it is not an issue, so Dodge would be well served to investigate this."
   ]
  },
  {
   "cell_type": "code",
   "execution_count": 31,
   "metadata": {
    "colab": {
     "base_uri": "https://localhost:8080/",
     "height": 894
    },
    "colab_type": "code",
    "id": "Ygtceq-eHGeL",
    "outputId": "d2cd1c37-9805-4e68-cfb3-ad522576fd6e"
   },
   "outputs": [
    {
     "name": "stdout",
     "output_type": "stream",
     "text": [
      "The aspirational phrases we chose to look at are:\n",
      "1. want to have\n",
      "2. wish to have\n",
      "3. want to own\n",
      "4. love to own\n",
      "5. love to own\n",
      "6. need to have\n",
      "7. would like to have\n",
      "8. like to own\n",
      "9. would like\n",
      "10. dream car\n",
      "11. kill to\n",
      "12. would like to buy\n",
      "13. wish to own\n",
      "14. love to buy\n",
      "15. want to buy\n",
      "16. have to buy\n",
      "17. need to buy\n",
      "18. need to own\n",
      "19. aspirational\n",
      "20. dream to own\n",
      "21. dream to have\n",
      "22. future car\n",
      "23. in the future\n",
      "24. own in the future\n",
      "25. buy in the future\n",
      "26. aspire\n",
      "\n",
      "\n",
      "Brand and aspiration lifts:\n",
      "\n"
     ]
    },
    {
     "data": {
      "text/html": [
       "<div>\n",
       "<style scoped>\n",
       "    .dataframe tbody tr th:only-of-type {\n",
       "        vertical-align: middle;\n",
       "    }\n",
       "\n",
       "    .dataframe tbody tr th {\n",
       "        vertical-align: top;\n",
       "    }\n",
       "\n",
       "    .dataframe thead th {\n",
       "        text-align: right;\n",
       "    }\n",
       "</style>\n",
       "<table border=\"1\" class=\"dataframe\">\n",
       "  <thead>\n",
       "    <tr style=\"text-align: right;\">\n",
       "      <th></th>\n",
       "      <th>aspiration</th>\n",
       "    </tr>\n",
       "    <tr>\n",
       "      <th>cars</th>\n",
       "      <th></th>\n",
       "    </tr>\n",
       "  </thead>\n",
       "  <tbody>\n",
       "    <tr>\n",
       "      <th>chevrolet</th>\n",
       "      <td>1.12345</td>\n",
       "    </tr>\n",
       "    <tr>\n",
       "      <th>ford</th>\n",
       "      <td>0.545611</td>\n",
       "    </tr>\n",
       "    <tr>\n",
       "      <th>porsche</th>\n",
       "      <td>2.25148</td>\n",
       "    </tr>\n",
       "    <tr>\n",
       "      <th>mercedes</th>\n",
       "      <td>0.892578</td>\n",
       "    </tr>\n",
       "    <tr>\n",
       "      <th>dodge</th>\n",
       "      <td>1.2002</td>\n",
       "    </tr>\n",
       "    <tr>\n",
       "      <th>honda</th>\n",
       "      <td>1.6129</td>\n",
       "    </tr>\n",
       "    <tr>\n",
       "      <th>toyota</th>\n",
       "      <td>1.84332</td>\n",
       "    </tr>\n",
       "    <tr>\n",
       "      <th>chrysler</th>\n",
       "      <td>1.90211</td>\n",
       "    </tr>\n",
       "    <tr>\n",
       "      <th>pontiac</th>\n",
       "      <td>0.516491</td>\n",
       "    </tr>\n",
       "    <tr>\n",
       "      <th>bmw</th>\n",
       "      <td>0.593132</td>\n",
       "    </tr>\n",
       "  </tbody>\n",
       "</table>\n",
       "</div>"
      ],
      "text/plain": [
       "          aspiration\n",
       "cars                \n",
       "chevrolet    1.12345\n",
       "ford        0.545611\n",
       "porsche      2.25148\n",
       "mercedes    0.892578\n",
       "dodge         1.2002\n",
       "honda         1.6129\n",
       "toyota       1.84332\n",
       "chrysler     1.90211\n",
       "pontiac     0.516491\n",
       "bmw         0.593132"
      ]
     },
     "execution_count": 31,
     "metadata": {
      "tags": []
     },
     "output_type": "execute_result"
    }
   ],
   "source": [
    "aspiration = pd.DataFrame(columns = ['aspiration'])\n",
    "for cars in top_ten:\n",
    "  aspiration = aspiration.append(pd.Series(0, index=aspiration.columns), ignore_index=True)\n",
    "aspiration['cars'] = top_ten\n",
    "aspiration = aspiration.set_index('cars')\n",
    "\n",
    "df = df.dropna(how='any')\n",
    "\n",
    "for brand, series in list(aspiration.iterrows()):\n",
    "    for att in series.index:\n",
    "        aspiration[att].loc[brand] = calc_lift(brand, att)\n",
    "#print(\"Here are the phrases we considered 'aspirational':\\n\\n\", (aspirational_phrases['model'].values) )\n",
    "\n",
    "print('The aspirational phrases we chose to look at are:')\n",
    "for att in range(len(aspirational_phrases['model'].values)):\n",
    "    print('{}. '.format(att+1)+aspirational_phrases['model'].values[att])\n",
    "    \n",
    "print('\\n\\nBrand and aspiration lifts:\\n')\n",
    "aspiration\n"
   ]
  },
  {
   "cell_type": "markdown",
   "metadata": {
    "colab_type": "text",
    "id": "_pREpd_o5kvD"
   },
   "source": [
    "**Task E**.\n",
    "\n",
    "\n",
    "Our last analysis consisted of us reviewing which car brand was most aspirational. To determine this, we searched through our forum's contents and attempted to identify the use of the bi- and tri-grams listed above. From this analysis, we can conclude that Porsche was the most aspirational as it’s co-occurrence with our chosen bi- and trigrams was most signficant.\n",
    "\n",
    "A brand manager from Porsche should be happy with this analysis, as it shows that those who are deciding to either keep their old car or sell it, are more likely to be considering the purchase of a Porsche than any other car brand. What the brand manager should do from here is determine if the discussion is centering around used Porsches or new Porsches. While it is not a bad thing that customers would see value in purchasing a used Porsche, because it indicates that the cars Porsche produces age well, it doesn't do anything for the bottom like of the company. Finding ways to entice new customers should be the goal of any further analysis."
   ]
  }
 ],
 "metadata": {
  "colab": {
   "collapsed_sections": [],
   "name": "9/17 (9:40pm) - HW1.ipynb",
   "provenance": []
  },
  "kernelspec": {
   "display_name": "Python 3",
   "language": "python",
   "name": "python3"
  },
  "language_info": {
   "codemirror_mode": {
    "name": "ipython",
    "version": 3
   },
   "file_extension": ".py",
   "mimetype": "text/x-python",
   "name": "python",
   "nbconvert_exporter": "python",
   "pygments_lexer": "ipython3",
   "version": "3.7.4"
  }
 },
 "nbformat": 4,
 "nbformat_minor": 1
}
