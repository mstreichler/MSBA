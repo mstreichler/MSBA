{
 "cells": [
  {
   "cell_type": "markdown",
   "metadata": {},
   "source": [
    "### Initialize Libaries, Data, & Structures"
   ]
  },
  {
   "cell_type": "code",
   "execution_count": 1,
   "metadata": {},
   "outputs": [],
   "source": [
    "# load libaries\n",
    "from sklearn.linear_model import LogisticRegression\n",
    "from sklearn.ensemble import RandomForestClassifier\n",
    "from sklearn.preprocessing import StandardScaler\n",
    "from statsmodels.api import OLS, add_constant\n",
    "import pandas as pd\n",
    "import numpy as np"
   ]
  },
  {
   "cell_type": "code",
   "execution_count": 2,
   "metadata": {},
   "outputs": [
    {
     "name": "stderr",
     "output_type": "stream",
     "text": [
      "C:\\Users\\shanc\\Anaconda3\\lib\\site-packages\\ipykernel_launcher.py:17: SettingWithCopyWarning: \n",
      "A value is trying to be set on a copy of a slice from a DataFrame.\n",
      "Try using .loc[row_indexer,col_indexer] = value instead\n",
      "\n",
      "See the caveats in the documentation: https://pandas.pydata.org/pandas-docs/stable/user_guide/indexing.html#returning-a-view-versus-a-copy\n",
      "C:\\Users\\shanc\\Anaconda3\\lib\\site-packages\\ipykernel_launcher.py:24: SettingWithCopyWarning: \n",
      "A value is trying to be set on a copy of a slice from a DataFrame.\n",
      "Try using .loc[row_indexer,col_indexer] = value instead\n",
      "\n",
      "See the caveats in the documentation: https://pandas.pydata.org/pandas-docs/stable/user_guide/indexing.html#returning-a-view-versus-a-copy\n"
     ]
    }
   ],
   "source": [
    "# load data\n",
    "d = pd.read_csv('data-clean.csv', low_memory=False)\n",
    "exclude_df = pd.read_csv('data-exclude.csv')\n",
    "ff3 = pd.read_csv('ff3-clean.csv')\n",
    "\n",
    "# adj Fama-French factors to reflect RET lag\n",
    "ff3cols = ['Mkt-RF','SMB','HML']\n",
    "ff3[ff3cols] = ff3[ff3cols].apply(lambda x: x.shift(-1))\n",
    "\n",
    "# adjust price to cap at $15\n",
    "d['PRC'] = np.where(d['PRC'] >= 15, 15, d['PRC'])\n",
    "exclude_df['PRC'] = np.where(exclude_df['PRC'] >= 15, 15, exclude_df['PRC'])\n",
    "\n",
    "# define constants & structures\n",
    "y_col = 'financialDistress_12_periods'\n",
    "rf = ff3[['date_month','RF']] # isolate rf rate to merge with main dataset\n",
    "rf['RF-shifted'] = rf['RF'].shift(-1)\n",
    "\n",
    "# reset dates to datetime\n",
    "d['year'] = pd.to_datetime(d['date_month']).dt.to_period('Y')\n",
    "d['date_month'] = pd.to_datetime(d['date_month']).dt.to_period('M')\n",
    "exclude_df['year'] = pd.to_datetime(exclude_df['date_month']).dt.to_period('Y')\n",
    "exclude_df['date_month'] = pd.to_datetime(exclude_df['date_month']).dt.to_period('M')\n",
    "rf['date_month'] = pd.to_datetime(rf['date_month']).dt.to_period('M')\n",
    "ff3['date_month'] = pd.to_datetime(ff3['date_month']).dt.to_period('M')"
   ]
  },
  {
   "cell_type": "code",
   "execution_count": 3,
   "metadata": {},
   "outputs": [],
   "source": [
    "# load data\n",
    "text = pd.read_csv('data-clean-text.csv', low_memory=False)\n",
    "exclude_text = pd.read_csv('data-exclude-text.csv', low_memory=False)\n",
    "\n",
    "# adjust price to cap at $15\n",
    "text['PRC'] = np.where(text['PRC'] >= 15, 15, text['PRC'])\n",
    "exclude_text['PRC'] = np.where(exclude_text['PRC'] >= 15, 15, exclude_text['PRC'])\n",
    "\n",
    "# reset dates to datetime\n",
    "text['year'] = pd.to_datetime(text['date_month']).dt.to_period('Y')\n",
    "text['date_month'] = pd.to_datetime(text['date_month']).dt.to_period('M')\n",
    "exclude_text['year'] = pd.to_datetime(exclude_text['date_month']).dt.to_period('Y')\n",
    "exclude_text['date_month'] = pd.to_datetime(exclude_text['date_month']).dt.to_period('M')"
   ]
  },
  {
   "cell_type": "markdown",
   "metadata": {},
   "source": [
    "### Back Test Functions"
   ]
  },
  {
   "cell_type": "code",
   "execution_count": 4,
   "metadata": {},
   "outputs": [],
   "source": [
    "# define backtest class\n",
    "class strategy:\n",
    "    # define portfolio build loop function as init\n",
    "    def __init__(self, df, start, end, cols=True, model='L'):\n",
    "        # run build for first time\n",
    "        self.bin_data, self.coefs, self.years = build_ports(df, start, end, cols=cols, model=model)\n",
    "        self.data, self.start, self.end, self.model = df, start, end, model\n",
    "        if cols: self.cols = ['NITA','TLTA','CASHMTA','EXRET','RSIZE','PRC','SIGMA','SIGMA_TLTA']\n",
    "        else: self.cols = cols\n",
    "            \n",
    "    # define build ports function for later iterations\n",
    "    def build_ports(self, df, start, end, cols=True, model='L'):\n",
    "        # run later build\n",
    "        self.bin_data, self.coefs, self.years = build_ports(df, start, end, cols=cols, model=model)\n",
    "        self.data, self.start, self.end, self.model = df, start, end, model\n",
    "        if cols: self.cols = ['NITA','TLTA','CASHMTA','EXRET','RSIZE','PRC','SIGMA','SIGMA_TLTA']\n",
    "        else: self.cols = cols\n",
    "        \n",
    "    def weight_returns(self, value=True):\n",
    "        self.ports = weight_returns(self.bin_data, self.years, value=value)\n",
    "        self.value = value\n",
    "        print('Returns Weighted')\n",
    "        \n",
    "    def compile_ports(self):\n",
    "        self.main, self.returns_table = compile_ports(self.ports)\n",
    "        print('Portfolios Compiled')\n",
    "    \n",
    "    def test(self):\n",
    "        self.alphas, F, self.betas = test(self.ports, self.years)\n",
    "        name = str(self.start) + '-' + str(self.end)\n",
    "        self.F = F.rename(index={0:name})"
   ]
  },
  {
   "cell_type": "code",
   "execution_count": 5,
   "metadata": {},
   "outputs": [],
   "source": [
    "def build_ports(df, start, end, cols=True, model='L'):\n",
    "    # define constants & structures\n",
    "    years = pd.Series(df['year'].unique()).sort_values().reset_index(drop=True)\n",
    "    if cols == True: cols = ['NITA','TLTA','CASHMTA','EXRET','RSIZE','PRC','SIGMA','SIGMA_TLTA'] # 'NIMTA', 'TLMTA'\n",
    "    else: cols = cols\n",
    "    p3 = pd.DataFrame()\n",
    "    coefs = pd.DataFrame()\n",
    "\n",
    "    # isolate target years (inclusive of start, end years)\n",
    "    try: y = years.apply(lambda x: int(x.strftime('%Y'))) # convert years from str to int\n",
    "    except: y = years # handle if already int\n",
    "    y = y[y >= start]\n",
    "    y = y[y <= end]\n",
    "    years = years[y.index].reset_index(drop=True)\n",
    "\n",
    "    # main backtest loop\n",
    "    for year in years:\n",
    "        # isolate month-firms for train and test\n",
    "        p = df[df['year'] == year].reset_index(drop=True)\n",
    "        months = pd.Series(p['date_month'].unique()).sort_values().reset_index(drop=True)\n",
    "\n",
    "        # get probs & exclude by month\n",
    "        for month in months:\n",
    "            o = df[df['date_month'] < (month-12)].reset_index(drop=True) # no forwad looking info (y_col)\n",
    "            p2 = p[p['date_month'] == month].reset_index(drop=True)\n",
    "\n",
    "            # split into X, y & scale X\n",
    "            X, X2, y = o[cols], p2[cols], o[y_col]\n",
    "            sclr = StandardScaler()\n",
    "            X = sclr.fit_transform(X)\n",
    "            X2 = sclr.transform(X2)\n",
    "\n",
    "            # model data and get bankruptcy probability\n",
    "            try:\n",
    "                if model == 'L': mdl = LogisticRegression(random_state=10, max_iter=10000)\n",
    "                elif model == 'R': mdl = RandomForestClassifier(criterion='entropy', n_estimators=15, max_depth=8, random_state=10)\n",
    "                mdl.fit(X, y)\n",
    "                p2['Prob'] = pd.DataFrame(mdl.predict_proba(X2))[1]\n",
    "\n",
    "                # save feature coef/importance\n",
    "                temp_cols_name = str(month)\n",
    "                if model == 'L': coefs[temp_cols_name] = pd.Series(mdl.coef_[0])\n",
    "                elif model == 'R': coefs[temp_cols_name] = pd.Series(mdl.feature_importances_)\n",
    "            except:\n",
    "                print('Model Failed', month)\n",
    "                continue\n",
    "\n",
    "            # assign to bins\n",
    "            try: p2['bin'] = pd.qcut(p2['Prob'],10,labels=list(range(1,11))) # deciles\n",
    "            except: print('Binning Failed', month)\n",
    "            p3 = p3.append(p2) # save component data\n",
    "        print('Portfolio Build Success', year)\n",
    "\n",
    "    # post-build organization\n",
    "    coefs['Coef'] = cols\n",
    "    coefs = coefs.set_index('Coef')\n",
    "    return p3, coefs, years"
   ]
  },
  {
   "cell_type": "code",
   "execution_count": 6,
   "metadata": {},
   "outputs": [],
   "source": [
    "def weight_returns(bin_data, years, value=True):\n",
    "    # weight portfolios to build portfolio returns w/ monthly period\n",
    "    ports = pd.DataFrame()\n",
    "    for year in years:\n",
    "        p3 = bin_data[bin_data['year'] == year]\n",
    "        for i in range(1,11):\n",
    "            dec = p3[p3['bin'] == i]\n",
    "            mrk_mon = dec.groupby(['date_month'])['MKTCAP'].sum() # get total market cap for bin\n",
    "            merge = dec.merge(mrk_mon,left_on='date_month',right_on='date_month')\n",
    "            merge['weight'] = merge['MKTCAP_x']/merge['MKTCAP_y'] # get value-weight\n",
    "            merge['w_ret'] = merge['weight']*merge['RET-shifted']\n",
    "            if value: # value-weight returns\n",
    "                dec = pd.DataFrame(merge.groupby('date_month')['w_ret'].sum())\n",
    "                dec = dec.reset_index().rename(columns={'w_ret':'return'})\n",
    "            else: # equal-weight returns\n",
    "                dec = pd.DataFrame(merge.groupby('date_month')['RET-shifted'].mean())\n",
    "                dec = dec.reset_index().rename(columns={'RET-shifted':'return'})\n",
    "\n",
    "            # calc & merge mean probability & risk-free rate\n",
    "            mean = merge.groupby('date_month')['Prob'].mean().reset_index()\n",
    "            dec = dec.merge(mean, on='date_month')\n",
    "            dec = dec.merge(rf, on='date_month')\n",
    "\n",
    "            # add other features\n",
    "            dec['premium'] = dec['return'] - dec['RF-shifted']\n",
    "            dec['year'] = year\n",
    "            dec['bin'] = i\n",
    "            ports = ports.append(dec) # append to masterlist\n",
    "\n",
    "    # save portfolio returns to object\n",
    "    ports = ports.reset_index(drop=True)\n",
    "    return ports"
   ]
  },
  {
   "cell_type": "code",
   "execution_count": 7,
   "metadata": {},
   "outputs": [],
   "source": [
    "# define portfolio compilation function\n",
    "def compile_ports(ports):\n",
    "    \n",
    "    # seperate by bin & calc std\n",
    "    t = pd.DataFrame()\n",
    "    for b in range(1,11):\n",
    "        t[b] = ports[ports['bin'] == b]['return'].reset_index(drop=True)\n",
    "    t['date'] = ports['date_month'].unique()    \n",
    "    t = t.set_index('date', drop=True)\n",
    "    std = t.apply(np.std)\n",
    "\n",
    "    # annualize values\n",
    "    std = std*(12**0.5)\n",
    "    year_premium = (1+ports.groupby(['bin','year'])[['premium']].mean())**12 - 1\n",
    "    year_return = (1+ports.groupby(['bin','year'])[['return']].mean())**12 - 1\n",
    "    \n",
    "    # get main performance metrics\n",
    "    main = year_return.groupby(['bin'])[['return']].mean()\n",
    "    main['premium'] = year_premium.groupby(['bin'])[['premium']].mean()\n",
    "    nyears = len(ports['year'].unique())\n",
    "    #main['1$'] = (1+main['return'])**(nyears)\n",
    "    main['premium'] = main['premium'].map(lambda x: str(round(x*100,2)) + '%')\n",
    "    main['return'] = main['return'].map(lambda x: str(round(x*100,2)) + '%')\n",
    "    main['prob'] = ports.groupby(['bin'])['Prob'].mean().apply(lambda x: str(round(x*100,3)) + '%')\n",
    "    main['risk'] = std.apply(lambda x: str(round(x*100, 2)) + '%')\n",
    "    main['Sharpe'] = main['premium'].apply(lambda x: float(x[:-1])/100)/std\n",
    "    main = main.T\n",
    "    \n",
    "    return main, t"
   ]
  },
  {
   "cell_type": "code",
   "execution_count": 8,
   "metadata": {},
   "outputs": [],
   "source": [
    "# define portfolio testing function\n",
    "def port_tests(b, df):\n",
    "\n",
    "    # step 4: test agains fama-franch (t & F-tests)\n",
    "    port = df[df['bin'] == b]\n",
    "    port = port.merge(ff3, on='date_month')\n",
    "    \n",
    "    # run regression\n",
    "    X = port[['Mkt-RF','SMB','HML']]\n",
    "    y = port['premium']\n",
    "    \n",
    "    # run regression\n",
    "    X = add_constant(X)\n",
    "    ols = OLS(y.values, X)\n",
    "    ols = ols.fit()\n",
    "    pred = ols.predict()\n",
    "    resid = y - pred\n",
    "    \n",
    "    # organize results & get r2\n",
    "    out = pd.DataFrame(ols.summary2().tables[1][0:1][['Coef.','t']])\n",
    "    out = out.rename(columns={'Coef.':'alpha','t':'t-stat'}).reset_index(drop=True)\n",
    "    out['R2'] = pd.Series(ols.summary2().tables[0][1][6])[0]\n",
    "    out['Mkt-RF Beta'] = pd.Series(ols.summary2().tables[1][1:2]['Coef.'])[0]\n",
    "    out['Mkt-RF t'] = (out['Mkt-RF Beta'] - 1)/pd.Series(ols.summary2().tables[1][1:2]['Std.Err.'])[0]\n",
    "    out['SMB Beta'] = pd.Series(ols.summary2().tables[1][2:3]['Coef.'])[0]\n",
    "    out['SMB t'] = (out['SMB Beta'] - 1)/pd.Series(ols.summary2().tables[1][2:3]['Std.Err.'])[0]\n",
    "    out['HML Beta'] = pd.Series(ols.summary2().tables[1][3:4]['Coef.'])[0]\n",
    "    out['HML t'] = (out['HML Beta'] - 1)/pd.Series(ols.summary2().tables[1][3:4]['Std.Err.'])[0]\n",
    "    out['bin'] = b\n",
    "    #out['model'] = ols\n",
    "\n",
    "    return resid, out"
   ]
  },
  {
   "cell_type": "code",
   "execution_count": 9,
   "metadata": {},
   "outputs": [],
   "source": [
    "# define function for high-low t-test\n",
    "def high_low(df):\n",
    "    \n",
    "    # setup high-low\n",
    "    high = df[df['bin'] == 1].reset_index(drop=True)\n",
    "    low = df[df['bin'] == 10].reset_index(drop=True)\n",
    "    high = high.merge(ff3, on='date_month')\n",
    "    \n",
    "    # run regression\n",
    "    X_high = high[['Mkt-RF','SMB','HML']]\n",
    "    y_high = high['premium'] - low['premium']\n",
    "\n",
    "    # run regression\n",
    "    X_high = add_constant(X_high)\n",
    "    hi = OLS(y_high.values, X_high)\n",
    "    hi = hi.fit()\n",
    "    \n",
    "    # output metrics\n",
    "    out = pd.DataFrame(hi.summary2().tables[1][0:1][['Coef.','t']])\n",
    "    out['R2'] = pd.Series(hi.summary2().tables[0][1][6])[0]\n",
    "    out = out.T.rename(index={'Coef.':'alpha','t':'t-stat','Unnamed 0':'R2'}, columns={'const':'High-Low'}).T\n",
    "    out['Mkt-RF Beta'] = pd.Series(hi.summary2().tables[1][1:2]['Coef.'])[0]\n",
    "    out['Mkt-RF t'] =  (out['Mkt-RF Beta'] - 1)/pd.Series(hi.summary2().tables[1][1:2]['Std.Err.'])[0]\n",
    "    out['SMB Beta'] = pd.Series(hi.summary2().tables[1][2:3]['Coef.'])[0]\n",
    "    out['SMB t'] = (out['SMB Beta'] - 1)/pd.Series(hi.summary2().tables[1][2:3]['Std.Err.'])[0]\n",
    "    out['HML Beta'] = pd.Series(hi.summary2().tables[1][3:4]['Coef.'])[0]\n",
    "    out['HML t'] = (out['HML Beta'] - 1)/pd.Series(hi.summary2().tables[1][3:4]['Std.Err.'])[0]\n",
    "    #out['model'] = hi\n",
    "     \n",
    "    return out.T"
   ]
  },
  {
   "cell_type": "code",
   "execution_count": 10,
   "metadata": {},
   "outputs": [],
   "source": [
    "# Define F-test function\n",
    "def F_test(alpha_hat, resids, F):\n",
    "    \n",
    "    # calulate formula inputs\n",
    "    mu_bar = F.apply(np.mean) # sample means of factors\n",
    "    T = resids.shape[0] # get periods T (months)\n",
    "    N = alpha_hat.shape[0] # get portfolios (bins)\n",
    "    L = mu_bar.shape[0] # get factors count (feature cols)\n",
    "    sigma_hat = resids.cov()*(T/(T-L-1)) # residual covar matrix\n",
    "    omega_hat = F.cov()*(T/(T-1)) # factor covar matrix\n",
    "    aSa = alpha_hat.T @ np.linalg.inv(sigma_hat) @ alpha_hat\n",
    "    mOm = mu_bar.T @ np.linalg.inv(omega_hat) @ mu_bar\n",
    "    \n",
    "    # execute F-test calc\n",
    "    F = (T/N)*((T-N-L)/(T-L-1))*(aSa/(1+mOm))\n",
    "    \n",
    "    # absolut mean of alphas\n",
    "    alpha_mean = np.mean(abs(alpha_hat))\n",
    "    \n",
    "    # build output df\n",
    "    F_table = pd.DataFrame([T,F,alpha_mean],index=['Months','F-Stat','Avg |alpha|']).T\n",
    "    \n",
    "    return F_table"
   ]
  },
  {
   "cell_type": "code",
   "execution_count": 11,
   "metadata": {},
   "outputs": [],
   "source": [
    "# define unified test function\n",
    "def test(ports, years):\n",
    "    \n",
    "    # define f_mat for length calcs\n",
    "    try: F_mat = ff3[ff3['year'].isin(list(years.dt.year))][['Mkt-RF','SMB','HML']]\n",
    "    except: F_mat = ff3[ff3['year'].isin(years)][['Mkt-RF','SMB','HML']]\n",
    "    l = F_mat.shape[0]\n",
    "    \n",
    "    # test portfolios against Fama-French 3 Factor\n",
    "    alphas = pd.DataFrame()\n",
    "    resids = pd.DataFrame(np.zeros((l,10)),columns=list(range(1,11)))\n",
    "    for i in range(1,11):\n",
    "        resid, out = port_tests(i, ports)\n",
    "        alphas = alphas.append(out).reset_index(drop=True)\n",
    "        resids[i] = resid\n",
    "    print('Test Success')\n",
    "\n",
    "    # run F-test\n",
    "    alpha_hat = alphas['alpha'] # estimated intercepts\n",
    "    F = F_test(alpha_hat, resids, F_mat)\n",
    "    R2 = alphas['R2'].map(float)\n",
    "    F['Avg R-2'] = np.mean(R2.values)\n",
    "    print('F Success')\n",
    "\n",
    "    # get hgih-low t-test results\n",
    "    out = high_low(ports)\n",
    "\n",
    "    # adjust final alpha df\n",
    "    alphas = alphas.set_index('bin')\n",
    "    alphas = alphas.append(out.T)\n",
    "    alphas = alphas.T\n",
    "    print('Back Test Success')\n",
    "        \n",
    "    # betas jic\n",
    "    betas = True\n",
    "    \n",
    "    return alphas.T, F, betas"
   ]
  },
  {
   "cell_type": "markdown",
   "metadata": {},
   "source": [
    "### Portfolio Loop Function"
   ]
  },
  {
   "cell_type": "code",
   "execution_count": 12,
   "metadata": {
    "scrolled": true
   },
   "outputs": [],
   "source": [
    "# define back test function\n",
    "def backtest(df, start=1975, end=2018, cols=True, model='L', value=True):\n",
    "    # initial object and run through functions\n",
    "    m = strategy(df, start=start, end=end, cols=cols, model=model)\n",
    "    m.weight_returns(value=value)\n",
    "    m.compile_ports()\n",
    "    m.test()\n",
    "    return m"
   ]
  },
  {
   "cell_type": "code",
   "execution_count": 148,
   "metadata": {
    "collapsed": true
   },
   "outputs": [
    {
     "name": "stdout",
     "output_type": "stream",
     "text": [
      "Portfolio Build Success 1997\n",
      "Portfolio Build Success 1998\n",
      "Portfolio Build Success 1999\n",
      "Portfolio Build Success 2000\n",
      "Returns Weighted\n",
      "Portfolios Compiled\n",
      "Test Success\n",
      "F Success\n",
      "Back Test Success\n"
     ]
    }
   ],
   "source": [
    "cols = ['PRC','TLTA','FinTerms_Litigious','FinTerms_Positive','SIGMA_TLTA','FinTerms_ModalWeak_count',\n",
    "        'SIGMA','FinTerms_Litigious_count','FinTerms_Negative','FinTerms_ModalWeak',\n",
    "        'FinTerms_ModalStrong','CASHMTA','NITA','EXRET','averageWordsPerParagraph']\n",
    "#m1 = backtest(text, start=1997, end=2018, value=True, cols=cols)\n",
    "#m2 = backtest(exclude_text, start=1997, end=2018, value=True, cols=cols)"
   ]
  },
  {
   "cell_type": "code",
   "execution_count": 143,
   "metadata": {
    "collapsed": true
   },
   "outputs": [
    {
     "data": {
      "text/html": [
       "<div>\n",
       "<style scoped>\n",
       "    .dataframe tbody tr th:only-of-type {\n",
       "        vertical-align: middle;\n",
       "    }\n",
       "\n",
       "    .dataframe tbody tr th {\n",
       "        vertical-align: top;\n",
       "    }\n",
       "\n",
       "    .dataframe thead th {\n",
       "        text-align: right;\n",
       "    }\n",
       "</style>\n",
       "<table border=\"1\" class=\"dataframe\">\n",
       "  <thead>\n",
       "    <tr style=\"text-align: right;\">\n",
       "      <th>bin</th>\n",
       "      <th>1</th>\n",
       "      <th>2</th>\n",
       "      <th>3</th>\n",
       "      <th>4</th>\n",
       "      <th>5</th>\n",
       "      <th>6</th>\n",
       "      <th>7</th>\n",
       "      <th>8</th>\n",
       "      <th>9</th>\n",
       "      <th>10</th>\n",
       "    </tr>\n",
       "  </thead>\n",
       "  <tbody>\n",
       "    <tr>\n",
       "      <th>return</th>\n",
       "      <td>11.0%</td>\n",
       "      <td>22.42%</td>\n",
       "      <td>24.11%</td>\n",
       "      <td>19.26%</td>\n",
       "      <td>20.88%</td>\n",
       "      <td>17.96%</td>\n",
       "      <td>8.22%</td>\n",
       "      <td>7.55%</td>\n",
       "      <td>12.36%</td>\n",
       "      <td>14.78%</td>\n",
       "    </tr>\n",
       "    <tr>\n",
       "      <th>premium</th>\n",
       "      <td>5.6%</td>\n",
       "      <td>16.53%</td>\n",
       "      <td>18.16%</td>\n",
       "      <td>13.52%</td>\n",
       "      <td>15.02%</td>\n",
       "      <td>12.22%</td>\n",
       "      <td>2.94%</td>\n",
       "      <td>2.31%</td>\n",
       "      <td>6.95%</td>\n",
       "      <td>9.16%</td>\n",
       "    </tr>\n",
       "    <tr>\n",
       "      <th>prob</th>\n",
       "      <td>0.193%</td>\n",
       "      <td>0.25%</td>\n",
       "      <td>0.291%</td>\n",
       "      <td>0.367%</td>\n",
       "      <td>0.572%</td>\n",
       "      <td>0.992%</td>\n",
       "      <td>1.627%</td>\n",
       "      <td>2.509%</td>\n",
       "      <td>3.897%</td>\n",
       "      <td>12.072%</td>\n",
       "    </tr>\n",
       "    <tr>\n",
       "      <th>risk</th>\n",
       "      <td>16.58%</td>\n",
       "      <td>16.76%</td>\n",
       "      <td>23.42%</td>\n",
       "      <td>30.96%</td>\n",
       "      <td>29.56%</td>\n",
       "      <td>31.03%</td>\n",
       "      <td>35.95%</td>\n",
       "      <td>39.92%</td>\n",
       "      <td>51.67%</td>\n",
       "      <td>58.47%</td>\n",
       "    </tr>\n",
       "    <tr>\n",
       "      <th>Sharpe</th>\n",
       "      <td>0.337792</td>\n",
       "      <td>0.986443</td>\n",
       "      <td>0.775363</td>\n",
       "      <td>0.436747</td>\n",
       "      <td>0.508137</td>\n",
       "      <td>0.393854</td>\n",
       "      <td>0.0817785</td>\n",
       "      <td>0.0578614</td>\n",
       "      <td>0.134499</td>\n",
       "      <td>0.156655</td>\n",
       "    </tr>\n",
       "  </tbody>\n",
       "</table>\n",
       "</div>"
      ],
      "text/plain": [
       "bin            1         2         3         4         5         6   \\\n",
       "return      11.0%    22.42%    24.11%    19.26%    20.88%    17.96%   \n",
       "premium      5.6%    16.53%    18.16%    13.52%    15.02%    12.22%   \n",
       "prob       0.193%     0.25%    0.291%    0.367%    0.572%    0.992%   \n",
       "risk       16.58%    16.76%    23.42%    30.96%    29.56%    31.03%   \n",
       "Sharpe   0.337792  0.986443  0.775363  0.436747  0.508137  0.393854   \n",
       "\n",
       "bin             7          8         9         10  \n",
       "return       8.22%      7.55%    12.36%    14.78%  \n",
       "premium      2.94%      2.31%     6.95%     9.16%  \n",
       "prob        1.627%     2.509%    3.897%   12.072%  \n",
       "risk        35.95%     39.92%    51.67%    58.47%  \n",
       "Sharpe   0.0817785  0.0578614  0.134499  0.156655  "
      ]
     },
     "execution_count": 143,
     "metadata": {},
     "output_type": "execute_result"
    }
   ],
   "source": [
    "m1.main"
   ]
  },
  {
   "cell_type": "markdown",
   "metadata": {},
   "source": [
    "### Back Tests\n",
    "\n",
    "#### Full Range"
   ]
  },
  {
   "cell_type": "code",
   "execution_count": 200,
   "metadata": {
    "collapsed": true
   },
   "outputs": [
    {
     "name": "stdout",
     "output_type": "stream",
     "text": [
      "           Months    F-Stat  Avg |alpha|  Avg R-2\n",
      "1975-2018   528.0  2.857314     0.004558   0.7995\n"
     ]
    },
    {
     "data": {
      "text/html": [
       "<div>\n",
       "<style scoped>\n",
       "    .dataframe tbody tr th:only-of-type {\n",
       "        vertical-align: middle;\n",
       "    }\n",
       "\n",
       "    .dataframe tbody tr th {\n",
       "        vertical-align: top;\n",
       "    }\n",
       "\n",
       "    .dataframe thead th {\n",
       "        text-align: right;\n",
       "    }\n",
       "</style>\n",
       "<table border=\"1\" class=\"dataframe\">\n",
       "  <thead>\n",
       "    <tr style=\"text-align: right;\">\n",
       "      <th>bin</th>\n",
       "      <th>1</th>\n",
       "      <th>2</th>\n",
       "      <th>3</th>\n",
       "      <th>4</th>\n",
       "      <th>5</th>\n",
       "      <th>6</th>\n",
       "      <th>7</th>\n",
       "      <th>8</th>\n",
       "      <th>9</th>\n",
       "      <th>10</th>\n",
       "    </tr>\n",
       "  </thead>\n",
       "  <tbody>\n",
       "    <tr>\n",
       "      <th>return</th>\n",
       "      <td>13.59%</td>\n",
       "      <td>15.93%</td>\n",
       "      <td>15.93%</td>\n",
       "      <td>16.33%</td>\n",
       "      <td>15.61%</td>\n",
       "      <td>15.42%</td>\n",
       "      <td>15.31%</td>\n",
       "      <td>17.92%</td>\n",
       "      <td>18.67%</td>\n",
       "      <td>22.37%</td>\n",
       "    </tr>\n",
       "    <tr>\n",
       "      <th>prob</th>\n",
       "      <td>0.051%</td>\n",
       "      <td>0.087%</td>\n",
       "      <td>0.12%</td>\n",
       "      <td>0.165%</td>\n",
       "      <td>0.255%</td>\n",
       "      <td>0.431%</td>\n",
       "      <td>0.737%</td>\n",
       "      <td>1.248%</td>\n",
       "      <td>2.192%</td>\n",
       "      <td>7.787%</td>\n",
       "    </tr>\n",
       "    <tr>\n",
       "      <th>risk</th>\n",
       "      <td>14.35%</td>\n",
       "      <td>18.7%</td>\n",
       "      <td>21.17%</td>\n",
       "      <td>23.17%</td>\n",
       "      <td>24.75%</td>\n",
       "      <td>26.19%</td>\n",
       "      <td>28.08%</td>\n",
       "      <td>30.6%</td>\n",
       "      <td>33.08%</td>\n",
       "      <td>38.79%</td>\n",
       "    </tr>\n",
       "    <tr>\n",
       "      <th>Sharpe</th>\n",
       "      <td>0.603974</td>\n",
       "      <td>0.585481</td>\n",
       "      <td>0.516657</td>\n",
       "      <td>0.490315</td>\n",
       "      <td>0.431995</td>\n",
       "      <td>0.403187</td>\n",
       "      <td>0.375737</td>\n",
       "      <td>0.433052</td>\n",
       "      <td>0.421744</td>\n",
       "      <td>0.449311</td>\n",
       "    </tr>\n",
       "  </tbody>\n",
       "</table>\n",
       "</div>"
      ],
      "text/plain": [
       "bin           1         2         3         4         5         6         7   \\\n",
       "return    13.59%    15.93%    15.93%    16.33%    15.61%    15.42%    15.31%   \n",
       "prob      0.051%    0.087%     0.12%    0.165%    0.255%    0.431%    0.737%   \n",
       "risk      14.35%     18.7%    21.17%    23.17%    24.75%    26.19%    28.08%   \n",
       "Sharpe  0.603974  0.585481  0.516657  0.490315  0.431995  0.403187  0.375737   \n",
       "\n",
       "bin           8         9         10  \n",
       "return    17.92%    18.67%    22.37%  \n",
       "prob      1.248%    2.192%    7.787%  \n",
       "risk       30.6%    33.08%    38.79%  \n",
       "Sharpe  0.433052  0.421744  0.449311  "
      ]
     },
     "execution_count": 200,
     "metadata": {},
     "output_type": "execute_result"
    }
   ],
   "source": [
    "#ports = backtest(d, start=1975, end=2018)\n",
    "print(ports.F)\n",
    "ports.main.T[['return','prob','risk','Sharpe']].T\n",
    "#ports.alphas.T#[['alpha','t-stat','R2','Mkt-RF Beta','SMB Beta','HML Beta']]"
   ]
  },
  {
   "cell_type": "code",
   "execution_count": 199,
   "metadata": {
    "collapsed": true
   },
   "outputs": [
    {
     "name": "stdout",
     "output_type": "stream",
     "text": [
      "           Months    F-Stat  Avg |alpha|  Avg R-2\n",
      "1975-2018   528.0  3.919074     0.005055     0.79\n"
     ]
    },
    {
     "data": {
      "text/html": [
       "<div>\n",
       "<style scoped>\n",
       "    .dataframe tbody tr th:only-of-type {\n",
       "        vertical-align: middle;\n",
       "    }\n",
       "\n",
       "    .dataframe tbody tr th {\n",
       "        vertical-align: top;\n",
       "    }\n",
       "\n",
       "    .dataframe thead th {\n",
       "        text-align: right;\n",
       "    }\n",
       "</style>\n",
       "<table border=\"1\" class=\"dataframe\">\n",
       "  <thead>\n",
       "    <tr style=\"text-align: right;\">\n",
       "      <th>bin</th>\n",
       "      <th>1</th>\n",
       "      <th>2</th>\n",
       "      <th>3</th>\n",
       "      <th>4</th>\n",
       "      <th>5</th>\n",
       "      <th>6</th>\n",
       "      <th>7</th>\n",
       "      <th>8</th>\n",
       "      <th>9</th>\n",
       "      <th>10</th>\n",
       "    </tr>\n",
       "  </thead>\n",
       "  <tbody>\n",
       "    <tr>\n",
       "      <th>return</th>\n",
       "      <td>20.01%</td>\n",
       "      <td>19.07%</td>\n",
       "      <td>19.02%</td>\n",
       "      <td>17.69%</td>\n",
       "      <td>15.98%</td>\n",
       "      <td>16.55%</td>\n",
       "      <td>16.66%</td>\n",
       "      <td>18.22%</td>\n",
       "      <td>17.52%</td>\n",
       "      <td>26.79%</td>\n",
       "    </tr>\n",
       "    <tr>\n",
       "      <th>prob</th>\n",
       "      <td>0.088%</td>\n",
       "      <td>0.121%</td>\n",
       "      <td>0.179%</td>\n",
       "      <td>0.288%</td>\n",
       "      <td>0.47%</td>\n",
       "      <td>0.744%</td>\n",
       "      <td>1.142%</td>\n",
       "      <td>1.742%</td>\n",
       "      <td>2.827%</td>\n",
       "      <td>9.522%</td>\n",
       "    </tr>\n",
       "    <tr>\n",
       "      <th>risk</th>\n",
       "      <td>18.21%</td>\n",
       "      <td>21.06%</td>\n",
       "      <td>23.7%</td>\n",
       "      <td>24.61%</td>\n",
       "      <td>25.98%</td>\n",
       "      <td>27.9%</td>\n",
       "      <td>29.86%</td>\n",
       "      <td>31.96%</td>\n",
       "      <td>34.46%</td>\n",
       "      <td>41.57%</td>\n",
       "    </tr>\n",
       "    <tr>\n",
       "      <th>Sharpe</th>\n",
       "      <td>0.80952</td>\n",
       "      <td>0.66249</td>\n",
       "      <td>0.586059</td>\n",
       "      <td>0.515175</td>\n",
       "      <td>0.426133</td>\n",
       "      <td>0.419776</td>\n",
       "      <td>0.399923</td>\n",
       "      <td>0.421492</td>\n",
       "      <td>0.370246</td>\n",
       "      <td>0.522471</td>\n",
       "    </tr>\n",
       "  </tbody>\n",
       "</table>\n",
       "</div>"
      ],
      "text/plain": [
       "bin          1        2         3         4         5         6         7   \\\n",
       "return   20.01%   19.07%    19.02%    17.69%    15.98%    16.55%    16.66%   \n",
       "prob     0.088%   0.121%    0.179%    0.288%     0.47%    0.744%    1.142%   \n",
       "risk     18.21%   21.06%     23.7%    24.61%    25.98%     27.9%    29.86%   \n",
       "Sharpe  0.80952  0.66249  0.586059  0.515175  0.426133  0.419776  0.399923   \n",
       "\n",
       "bin           8         9         10  \n",
       "return    18.22%    17.52%    26.79%  \n",
       "prob      1.742%    2.827%    9.522%  \n",
       "risk      31.96%    34.46%    41.57%  \n",
       "Sharpe  0.421492  0.370246  0.522471  "
      ]
     },
     "execution_count": 199,
     "metadata": {},
     "output_type": "execute_result"
    }
   ],
   "source": [
    "#ex_ports = backtest(exclude_df, start=1975, end=2018)\n",
    "print(ex_ports.F)\n",
    "ex_ports.main.T[['return','prob','risk','Sharpe']].T\n",
    "#ex_ports.alphas.T"
   ]
  },
  {
   "cell_type": "markdown",
   "metadata": {},
   "source": [
    "#### ML Portfolio"
   ]
  },
  {
   "cell_type": "code",
   "execution_count": 198,
   "metadata": {
    "collapsed": true
   },
   "outputs": [
    {
     "name": "stdout",
     "output_type": "stream",
     "text": [
      "           Months    F-Stat  Avg |alpha|  Avg R-2\n",
      "1983-2018   432.0  4.200216     0.005576   0.8004\n"
     ]
    },
    {
     "data": {
      "text/html": [
       "<div>\n",
       "<style scoped>\n",
       "    .dataframe tbody tr th:only-of-type {\n",
       "        vertical-align: middle;\n",
       "    }\n",
       "\n",
       "    .dataframe tbody tr th {\n",
       "        vertical-align: top;\n",
       "    }\n",
       "\n",
       "    .dataframe thead th {\n",
       "        text-align: right;\n",
       "    }\n",
       "</style>\n",
       "<table border=\"1\" class=\"dataframe\">\n",
       "  <thead>\n",
       "    <tr style=\"text-align: right;\">\n",
       "      <th>bin</th>\n",
       "      <th>1</th>\n",
       "      <th>2</th>\n",
       "      <th>3</th>\n",
       "      <th>4</th>\n",
       "      <th>5</th>\n",
       "      <th>6</th>\n",
       "      <th>7</th>\n",
       "      <th>8</th>\n",
       "      <th>9</th>\n",
       "      <th>10</th>\n",
       "    </tr>\n",
       "  </thead>\n",
       "  <tbody>\n",
       "    <tr>\n",
       "      <th>return</th>\n",
       "      <td>13.22%</td>\n",
       "      <td>14.51%</td>\n",
       "      <td>14.25%</td>\n",
       "      <td>12.6%</td>\n",
       "      <td>14.97%</td>\n",
       "      <td>11.57%</td>\n",
       "      <td>11.52%</td>\n",
       "      <td>7.61%</td>\n",
       "      <td>8.79%</td>\n",
       "      <td>15.66%</td>\n",
       "    </tr>\n",
       "    <tr>\n",
       "      <th>prob</th>\n",
       "      <td>0.079%</td>\n",
       "      <td>0.135%</td>\n",
       "      <td>0.177%</td>\n",
       "      <td>0.226%</td>\n",
       "      <td>0.288%</td>\n",
       "      <td>0.393%</td>\n",
       "      <td>0.621%</td>\n",
       "      <td>1.17%</td>\n",
       "      <td>2.594%</td>\n",
       "      <td>10.396%</td>\n",
       "    </tr>\n",
       "    <tr>\n",
       "      <th>risk</th>\n",
       "      <td>13.32%</td>\n",
       "      <td>16.82%</td>\n",
       "      <td>18.78%</td>\n",
       "      <td>20.28%</td>\n",
       "      <td>23.3%</td>\n",
       "      <td>26.55%</td>\n",
       "      <td>28.9%</td>\n",
       "      <td>30.54%</td>\n",
       "      <td>33.66%</td>\n",
       "      <td>42.0%</td>\n",
       "    </tr>\n",
       "    <tr>\n",
       "      <th>Sharpe</th>\n",
       "      <td>0.6944</td>\n",
       "      <td>0.62492</td>\n",
       "      <td>0.549104</td>\n",
       "      <td>0.430922</td>\n",
       "      <td>0.47344</td>\n",
       "      <td>0.291495</td>\n",
       "      <td>0.270625</td>\n",
       "      <td>0.13295</td>\n",
       "      <td>0.159855</td>\n",
       "      <td>0.291634</td>\n",
       "    </tr>\n",
       "  </tbody>\n",
       "</table>\n",
       "</div>"
      ],
      "text/plain": [
       "bin         1        2         3         4        5         6         7   \\\n",
       "return  13.22%   14.51%    14.25%     12.6%   14.97%    11.57%    11.52%   \n",
       "prob    0.079%   0.135%    0.177%    0.226%   0.288%    0.393%    0.621%   \n",
       "risk    13.32%   16.82%    18.78%    20.28%    23.3%    26.55%     28.9%   \n",
       "Sharpe  0.6944  0.62492  0.549104  0.430922  0.47344  0.291495  0.270625   \n",
       "\n",
       "bin          8         9         10  \n",
       "return    7.61%     8.79%    15.66%  \n",
       "prob      1.17%    2.594%   10.396%  \n",
       "risk     30.54%    33.66%     42.0%  \n",
       "Sharpe  0.13295  0.159855  0.291634  "
      ]
     },
     "execution_count": 198,
     "metadata": {},
     "output_type": "execute_result"
    }
   ],
   "source": [
    "#rf_ports = backtest(d, start=1983, end=2018, model='R')\n",
    "print(rf_ports.F)\n",
    "rf_ports.main.T[['return','prob','risk','Sharpe']].T\n",
    "#rf_ports.alphas.T"
   ]
  },
  {
   "cell_type": "code",
   "execution_count": 27,
   "metadata": {
    "collapsed": true
   },
   "outputs": [
    {
     "name": "stdout",
     "output_type": "stream",
     "text": [
      "           Months   F-Stat  Avg |alpha|  Avg R-2\n",
      "1983-2018   432.0  5.09221     0.007203   0.8157\n"
     ]
    },
    {
     "data": {
      "text/html": [
       "<div>\n",
       "<style scoped>\n",
       "    .dataframe tbody tr th:only-of-type {\n",
       "        vertical-align: middle;\n",
       "    }\n",
       "\n",
       "    .dataframe tbody tr th {\n",
       "        vertical-align: top;\n",
       "    }\n",
       "\n",
       "    .dataframe thead th {\n",
       "        text-align: right;\n",
       "    }\n",
       "</style>\n",
       "<table border=\"1\" class=\"dataframe\">\n",
       "  <thead>\n",
       "    <tr style=\"text-align: right;\">\n",
       "      <th>bin</th>\n",
       "      <th>1</th>\n",
       "      <th>2</th>\n",
       "      <th>3</th>\n",
       "      <th>4</th>\n",
       "      <th>5</th>\n",
       "      <th>6</th>\n",
       "      <th>7</th>\n",
       "      <th>8</th>\n",
       "      <th>9</th>\n",
       "      <th>10</th>\n",
       "    </tr>\n",
       "  </thead>\n",
       "  <tbody>\n",
       "    <tr>\n",
       "      <th>return</th>\n",
       "      <td>19.57%</td>\n",
       "      <td>17.06%</td>\n",
       "      <td>17.07%</td>\n",
       "      <td>14.54%</td>\n",
       "      <td>10.18%</td>\n",
       "      <td>10.18%</td>\n",
       "      <td>9.82%</td>\n",
       "      <td>10.18%</td>\n",
       "      <td>9.22%</td>\n",
       "      <td>14.75%</td>\n",
       "    </tr>\n",
       "    <tr>\n",
       "      <th>prob</th>\n",
       "      <td>0.141%</td>\n",
       "      <td>0.181%</td>\n",
       "      <td>0.225%</td>\n",
       "      <td>0.289%</td>\n",
       "      <td>0.401%</td>\n",
       "      <td>0.611%</td>\n",
       "      <td>1.024%</td>\n",
       "      <td>1.841%</td>\n",
       "      <td>3.675%</td>\n",
       "      <td>12.579%</td>\n",
       "    </tr>\n",
       "    <tr>\n",
       "      <th>risk</th>\n",
       "      <td>16.48%</td>\n",
       "      <td>18.03%</td>\n",
       "      <td>19.96%</td>\n",
       "      <td>22.4%</td>\n",
       "      <td>24.67%</td>\n",
       "      <td>27.52%</td>\n",
       "      <td>30.69%</td>\n",
       "      <td>33.27%</td>\n",
       "      <td>36.5%</td>\n",
       "      <td>45.7%</td>\n",
       "    </tr>\n",
       "    <tr>\n",
       "      <th>Sharpe</th>\n",
       "      <td>0.937533</td>\n",
       "      <td>0.723187</td>\n",
       "      <td>0.654711</td>\n",
       "      <td>0.477608</td>\n",
       "      <td>0.262291</td>\n",
       "      <td>0.237679</td>\n",
       "      <td>0.204306</td>\n",
       "      <td>0.203185</td>\n",
       "      <td>0.161922</td>\n",
       "      <td>0.251194</td>\n",
       "    </tr>\n",
       "  </tbody>\n",
       "</table>\n",
       "</div>"
      ],
      "text/plain": [
       "bin           1         2         3         4         5         6         7   \\\n",
       "return    19.57%    17.06%    17.07%    14.54%    10.18%    10.18%     9.82%   \n",
       "prob      0.141%    0.181%    0.225%    0.289%    0.401%    0.611%    1.024%   \n",
       "risk      16.48%    18.03%    19.96%     22.4%    24.67%    27.52%    30.69%   \n",
       "Sharpe  0.937533  0.723187  0.654711  0.477608  0.262291  0.237679  0.204306   \n",
       "\n",
       "bin           8         9         10  \n",
       "return    10.18%     9.22%    14.75%  \n",
       "prob      1.841%    3.675%   12.579%  \n",
       "risk      33.27%     36.5%     45.7%  \n",
       "Sharpe  0.203185  0.161922  0.251194  "
      ]
     },
     "execution_count": 27,
     "metadata": {},
     "output_type": "execute_result"
    }
   ],
   "source": [
    "#rf_ex_ports = backtest(exclude_df, start=1983, end=2018, model='R')\n",
    "print(rf_ex_ports.F)\n",
    "rf_ex_ports.main.T[['return','prob','risk','Sharpe']].T\n",
    "#rf_ex_ports.alphas.T"
   ]
  },
  {
   "cell_type": "code",
   "execution_count": 196,
   "metadata": {},
   "outputs": [
    {
     "name": "stdout",
     "output_type": "stream",
     "text": [
      "           Months    F-Stat  Avg |alpha|  Avg R-2\n",
      "1997-2018   264.0  3.298836     0.006012   0.8229\n"
     ]
    },
    {
     "data": {
      "text/html": [
       "<div>\n",
       "<style scoped>\n",
       "    .dataframe tbody tr th:only-of-type {\n",
       "        vertical-align: middle;\n",
       "    }\n",
       "\n",
       "    .dataframe tbody tr th {\n",
       "        vertical-align: top;\n",
       "    }\n",
       "\n",
       "    .dataframe thead th {\n",
       "        text-align: right;\n",
       "    }\n",
       "</style>\n",
       "<table border=\"1\" class=\"dataframe\">\n",
       "  <thead>\n",
       "    <tr style=\"text-align: right;\">\n",
       "      <th>bin</th>\n",
       "      <th>1</th>\n",
       "      <th>2</th>\n",
       "      <th>3</th>\n",
       "      <th>4</th>\n",
       "      <th>5</th>\n",
       "      <th>6</th>\n",
       "      <th>7</th>\n",
       "      <th>8</th>\n",
       "      <th>9</th>\n",
       "      <th>10</th>\n",
       "    </tr>\n",
       "  </thead>\n",
       "  <tbody>\n",
       "    <tr>\n",
       "      <th>return</th>\n",
       "      <td>17.34%</td>\n",
       "      <td>16.47%</td>\n",
       "      <td>17.29%</td>\n",
       "      <td>16.22%</td>\n",
       "      <td>10.59%</td>\n",
       "      <td>12.8%</td>\n",
       "      <td>14.51%</td>\n",
       "      <td>16.97%</td>\n",
       "      <td>19.79%</td>\n",
       "      <td>29.5%</td>\n",
       "    </tr>\n",
       "    <tr>\n",
       "      <th>prob</th>\n",
       "      <td>0.205%</td>\n",
       "      <td>0.254%</td>\n",
       "      <td>0.308%</td>\n",
       "      <td>0.387%</td>\n",
       "      <td>0.522%</td>\n",
       "      <td>0.778%</td>\n",
       "      <td>1.286%</td>\n",
       "      <td>2.275%</td>\n",
       "      <td>4.462%</td>\n",
       "      <td>14.443%</td>\n",
       "    </tr>\n",
       "    <tr>\n",
       "      <th>risk</th>\n",
       "      <td>16.99%</td>\n",
       "      <td>18.31%</td>\n",
       "      <td>20.72%</td>\n",
       "      <td>24.11%</td>\n",
       "      <td>27.13%</td>\n",
       "      <td>30.73%</td>\n",
       "      <td>35.45%</td>\n",
       "      <td>38.2%</td>\n",
       "      <td>42.68%</td>\n",
       "      <td>53.64%</td>\n",
       "    </tr>\n",
       "    <tr>\n",
       "      <th>Sharpe</th>\n",
       "      <td>0.888744</td>\n",
       "      <td>0.776464</td>\n",
       "      <td>0.725784</td>\n",
       "      <td>0.582392</td>\n",
       "      <td>0.314441</td>\n",
       "      <td>0.348803</td>\n",
       "      <td>0.352279</td>\n",
       "      <td>0.392174</td>\n",
       "      <td>0.416401</td>\n",
       "      <td>0.512666</td>\n",
       "    </tr>\n",
       "  </tbody>\n",
       "</table>\n",
       "</div>"
      ],
      "text/plain": [
       "bin           1         2         3         4         5         6         7   \\\n",
       "return    17.34%    16.47%    17.29%    16.22%    10.59%     12.8%    14.51%   \n",
       "prob      0.205%    0.254%    0.308%    0.387%    0.522%    0.778%    1.286%   \n",
       "risk      16.99%    18.31%    20.72%    24.11%    27.13%    30.73%    35.45%   \n",
       "Sharpe  0.888744  0.776464  0.725784  0.582392  0.314441  0.348803  0.352279   \n",
       "\n",
       "bin           8         9         10  \n",
       "return    16.97%    19.79%     29.5%  \n",
       "prob      2.275%    4.462%   14.443%  \n",
       "risk       38.2%    42.68%    53.64%  \n",
       "Sharpe  0.392174  0.416401  0.512666  "
      ]
     },
     "execution_count": 196,
     "metadata": {},
     "output_type": "execute_result"
    }
   ],
   "source": [
    "#rf_ex_ports2 = backtest(exclude_df, start=1997, end=2018, model='R')\n",
    "#print(rf_ex_ports2.alphas.T)\n",
    "print('Baseline Excluded RF Portfolio')\n",
    "print(rf_ex_ports2.F)\n",
    "rf_ex_ports2.main.T[['return','prob','risk','Sharpe']].T"
   ]
  },
  {
   "cell_type": "markdown",
   "metadata": {},
   "source": [
    "#### Text"
   ]
  },
  {
   "cell_type": "code",
   "execution_count": null,
   "metadata": {},
   "outputs": [],
   "source": [
    "cols = ['NITA','TLTA','CASHMTA','EXRET','PRC','SIGMA','SIGMA_TLTA',\n",
    "        'FinTerms_Litigious','FinTerms_Positive','FinTerms_ModalWeak','FinTerms_Litigious_count',\n",
    "        'FinTerms_ModalStrong','averageWordsPerParagraph','FinTerms_ModalStrong_count']\n",
    "#tx_ports = backtest(text, start=1997, end=2018, cols=cols)\n",
    "#tx_ex_ports = backtest(exclude_text, start=1997, end=2018, cols=cols)\n",
    "#tx_rf_ex_ports = backtest(exclude_text, start=1997, end=2018, cols=cols, model='R')"
   ]
  },
  {
   "cell_type": "code",
   "execution_count": null,
   "metadata": {},
   "outputs": [],
   "source": [
    "cols = ['NITA','TLTA','CASHMTA','EXRET','PRC','SIGMA','SIGMA_TLTA','FinTerms_Litigious']\n",
    "#tx_rf_ports_lit = backtest(exclude_text, start=1997, end=2018, cols=cols, model='R')\n",
    "print('Litigious Excluded RF Portfolio')\n",
    "print(tx_rf_ports_lit.F)\n",
    "tx_rf_ports_lit.main.T[['return','prob','risk','Sharpe']].T\n",
    "#tx_rf_ports_lit.alphas"
   ]
  },
  {
   "cell_type": "code",
   "execution_count": null,
   "metadata": {},
   "outputs": [],
   "source": [
    "cols = ['NITA','TLTA','CASHMTA','EXRET','PRC','SIGMA','SIGMA_TLTA','FinTerms_Positive'] \n",
    "#tx_rf_ports_pos = backtest(exclude_text, start=1997, end=2018, cols=cols, model='R')\n",
    "print('Positive Excluded RF Portfolio')\n",
    "print(tx_rf_ports_pos.F)\n",
    "tx_rf_ports_pos.main.T[['return','prob','risk','Sharpe']].T\n",
    "#tx_rf_ports_pos.alphas"
   ]
  },
  {
   "cell_type": "code",
   "execution_count": null,
   "metadata": {},
   "outputs": [],
   "source": [
    "cols = ['NITA','TLTA','CASHMTA','EXRET','PRC','SIGMA','SIGMA_TLTA','FinTerms_ModalStrong_count'] \n",
    "#tx_rf_ports_count = backtest(exclude_text, start=1997, end=2018, cols=cols, model='R')\n",
    "print('Strong Count Excluded RF Portfolio')\n",
    "print(tx_rf_ports_count.F)\n",
    "tx_rf_ports_count.main.T[['return','prob','risk','Sharpe']].T\n",
    "#tx_rf_ports_count.alphas"
   ]
  },
  {
   "cell_type": "code",
   "execution_count": 21,
   "metadata": {
    "collapsed": true
   },
   "outputs": [
    {
     "name": "stdout",
     "output_type": "stream",
     "text": [
      "           Months    F-Stat  Avg |alpha|  Avg R-2\n",
      "1997-2018   264.0  1.939593     0.004755   0.8358\n"
     ]
    },
    {
     "data": {
      "text/html": [
       "<div>\n",
       "<style scoped>\n",
       "    .dataframe tbody tr th:only-of-type {\n",
       "        vertical-align: middle;\n",
       "    }\n",
       "\n",
       "    .dataframe tbody tr th {\n",
       "        vertical-align: top;\n",
       "    }\n",
       "\n",
       "    .dataframe thead th {\n",
       "        text-align: right;\n",
       "    }\n",
       "</style>\n",
       "<table border=\"1\" class=\"dataframe\">\n",
       "  <thead>\n",
       "    <tr style=\"text-align: right;\">\n",
       "      <th>bin</th>\n",
       "      <th>1</th>\n",
       "      <th>2</th>\n",
       "      <th>3</th>\n",
       "      <th>4</th>\n",
       "      <th>5</th>\n",
       "      <th>6</th>\n",
       "      <th>7</th>\n",
       "      <th>8</th>\n",
       "      <th>9</th>\n",
       "      <th>10</th>\n",
       "    </tr>\n",
       "  </thead>\n",
       "  <tbody>\n",
       "    <tr>\n",
       "      <th>return</th>\n",
       "      <td>15.02%</td>\n",
       "      <td>17.19%</td>\n",
       "      <td>15.12%</td>\n",
       "      <td>14.96%</td>\n",
       "      <td>13.63%</td>\n",
       "      <td>12.46%</td>\n",
       "      <td>15.57%</td>\n",
       "      <td>19.82%</td>\n",
       "      <td>23.28%</td>\n",
       "      <td>27.03%</td>\n",
       "    </tr>\n",
       "    <tr>\n",
       "      <th>prob</th>\n",
       "      <td>0.302%</td>\n",
       "      <td>0.41%</td>\n",
       "      <td>0.502%</td>\n",
       "      <td>0.622%</td>\n",
       "      <td>0.813%</td>\n",
       "      <td>1.14%</td>\n",
       "      <td>1.757%</td>\n",
       "      <td>2.995%</td>\n",
       "      <td>5.827%</td>\n",
       "      <td>18.726%</td>\n",
       "    </tr>\n",
       "    <tr>\n",
       "      <th>risk</th>\n",
       "      <td>17.57%</td>\n",
       "      <td>19.45%</td>\n",
       "      <td>20.68%</td>\n",
       "      <td>22.94%</td>\n",
       "      <td>26.39%</td>\n",
       "      <td>29.09%</td>\n",
       "      <td>32.22%</td>\n",
       "      <td>36.94%</td>\n",
       "      <td>42.2%</td>\n",
       "      <td>50.95%</td>\n",
       "    </tr>\n",
       "    <tr>\n",
       "      <th>Sharpe</th>\n",
       "      <td>0.726435</td>\n",
       "      <td>0.768189</td>\n",
       "      <td>0.625826</td>\n",
       "      <td>0.557573</td>\n",
       "      <td>0.437598</td>\n",
       "      <td>0.358208</td>\n",
       "      <td>0.419351</td>\n",
       "      <td>0.481082</td>\n",
       "      <td>0.501436</td>\n",
       "      <td>0.49321</td>\n",
       "    </tr>\n",
       "  </tbody>\n",
       "</table>\n",
       "</div>"
      ],
      "text/plain": [
       "bin           1         2         3         4         5         6         7   \\\n",
       "return    15.02%    17.19%    15.12%    14.96%    13.63%    12.46%    15.57%   \n",
       "prob      0.302%     0.41%    0.502%    0.622%    0.813%     1.14%    1.757%   \n",
       "risk      17.57%    19.45%    20.68%    22.94%    26.39%    29.09%    32.22%   \n",
       "Sharpe  0.726435  0.768189  0.625826  0.557573  0.437598  0.358208  0.419351   \n",
       "\n",
       "bin           8         9        10  \n",
       "return    19.82%    23.28%   27.03%  \n",
       "prob      2.995%    5.827%  18.726%  \n",
       "risk      36.94%     42.2%   50.95%  \n",
       "Sharpe  0.481082  0.501436  0.49321  "
      ]
     },
     "execution_count": 21,
     "metadata": {},
     "output_type": "execute_result"
    }
   ],
   "source": [
    "cols = ['NITA','TLTA','CASHMTA','EXRET','PRC','SIGMA','SIGMA_TLTA','FinTerms_ModalStrong'] \n",
    "#tx_rf_ports_strong = backtest(exclude_text, start=1997, end=2018, cols=cols, model='R')\n",
    "print(tx_rf_ports_strong.F)\n",
    "tx_rf_ports_strong.main.T[['return','prob','risk','Sharpe']].T"
   ]
  },
  {
   "cell_type": "code",
   "execution_count": 22,
   "metadata": {
    "collapsed": true
   },
   "outputs": [
    {
     "name": "stdout",
     "output_type": "stream",
     "text": [
      "           Months   F-Stat  Avg |alpha|  Avg R-2\n",
      "1997-2018   264.0  2.19949     0.004745   0.8352\n"
     ]
    },
    {
     "data": {
      "text/html": [
       "<div>\n",
       "<style scoped>\n",
       "    .dataframe tbody tr th:only-of-type {\n",
       "        vertical-align: middle;\n",
       "    }\n",
       "\n",
       "    .dataframe tbody tr th {\n",
       "        vertical-align: top;\n",
       "    }\n",
       "\n",
       "    .dataframe thead th {\n",
       "        text-align: right;\n",
       "    }\n",
       "</style>\n",
       "<table border=\"1\" class=\"dataframe\">\n",
       "  <thead>\n",
       "    <tr style=\"text-align: right;\">\n",
       "      <th>bin</th>\n",
       "      <th>1</th>\n",
       "      <th>2</th>\n",
       "      <th>3</th>\n",
       "      <th>4</th>\n",
       "      <th>5</th>\n",
       "      <th>6</th>\n",
       "      <th>7</th>\n",
       "      <th>8</th>\n",
       "      <th>9</th>\n",
       "      <th>10</th>\n",
       "    </tr>\n",
       "  </thead>\n",
       "  <tbody>\n",
       "    <tr>\n",
       "      <th>return</th>\n",
       "      <td>15.24%</td>\n",
       "      <td>16.74%</td>\n",
       "      <td>15.59%</td>\n",
       "      <td>14.01%</td>\n",
       "      <td>12.88%</td>\n",
       "      <td>15.22%</td>\n",
       "      <td>14.82%</td>\n",
       "      <td>19.51%</td>\n",
       "      <td>24.71%</td>\n",
       "      <td>24.77%</td>\n",
       "    </tr>\n",
       "    <tr>\n",
       "      <th>prob</th>\n",
       "      <td>0.306%</td>\n",
       "      <td>0.414%</td>\n",
       "      <td>0.504%</td>\n",
       "      <td>0.621%</td>\n",
       "      <td>0.809%</td>\n",
       "      <td>1.14%</td>\n",
       "      <td>1.763%</td>\n",
       "      <td>3.0%</td>\n",
       "      <td>5.818%</td>\n",
       "      <td>18.717%</td>\n",
       "    </tr>\n",
       "    <tr>\n",
       "      <th>risk</th>\n",
       "      <td>17.37%</td>\n",
       "      <td>19.2%</td>\n",
       "      <td>21.15%</td>\n",
       "      <td>23.25%</td>\n",
       "      <td>26.02%</td>\n",
       "      <td>29.15%</td>\n",
       "      <td>32.81%</td>\n",
       "      <td>36.17%</td>\n",
       "      <td>42.76%</td>\n",
       "      <td>51.01%</td>\n",
       "    </tr>\n",
       "    <tr>\n",
       "      <th>Sharpe</th>\n",
       "      <td>0.748389</td>\n",
       "      <td>0.753128</td>\n",
       "      <td>0.634655</td>\n",
       "      <td>0.509741</td>\n",
       "      <td>0.415786</td>\n",
       "      <td>0.451068</td>\n",
       "      <td>0.38827</td>\n",
       "      <td>0.48212</td>\n",
       "      <td>0.529003</td>\n",
       "      <td>0.447723</td>\n",
       "    </tr>\n",
       "  </tbody>\n",
       "</table>\n",
       "</div>"
      ],
      "text/plain": [
       "bin           1         2         3         4         5         6        7   \\\n",
       "return    15.24%    16.74%    15.59%    14.01%    12.88%    15.22%   14.82%   \n",
       "prob      0.306%    0.414%    0.504%    0.621%    0.809%     1.14%   1.763%   \n",
       "risk      17.37%     19.2%    21.15%    23.25%    26.02%    29.15%   32.81%   \n",
       "Sharpe  0.748389  0.753128  0.634655  0.509741  0.415786  0.451068  0.38827   \n",
       "\n",
       "bin          8         9         10  \n",
       "return   19.51%    24.71%    24.77%  \n",
       "prob       3.0%    5.818%   18.717%  \n",
       "risk     36.17%    42.76%    51.01%  \n",
       "Sharpe  0.48212  0.529003  0.447723  "
      ]
     },
     "execution_count": 22,
     "metadata": {},
     "output_type": "execute_result"
    }
   ],
   "source": [
    "cols = ['NITA','TLTA','CASHMTA','EXRET','PRC','SIGMA','SIGMA_TLTA','FinTerms_ModalWeak'] \n",
    "#tx_rf_ports_weak = backtest(exclude_text, start=1997, end=2018, cols=cols, model='R')\n",
    "print(tx_rf_ports_weak.F)\n",
    "tx_rf_ports_weak.main.T[['return','prob','risk','Sharpe']].T"
   ]
  },
  {
   "cell_type": "code",
   "execution_count": 23,
   "metadata": {
    "collapsed": true
   },
   "outputs": [
    {
     "name": "stdout",
     "output_type": "stream",
     "text": [
      "           Months    F-Stat  Avg |alpha|  Avg R-2\n",
      "1997-2018   264.0  1.804175     0.004988   0.8378\n"
     ]
    },
    {
     "data": {
      "text/html": [
       "<div>\n",
       "<style scoped>\n",
       "    .dataframe tbody tr th:only-of-type {\n",
       "        vertical-align: middle;\n",
       "    }\n",
       "\n",
       "    .dataframe tbody tr th {\n",
       "        vertical-align: top;\n",
       "    }\n",
       "\n",
       "    .dataframe thead th {\n",
       "        text-align: right;\n",
       "    }\n",
       "</style>\n",
       "<table border=\"1\" class=\"dataframe\">\n",
       "  <thead>\n",
       "    <tr style=\"text-align: right;\">\n",
       "      <th>bin</th>\n",
       "      <th>1</th>\n",
       "      <th>2</th>\n",
       "      <th>3</th>\n",
       "      <th>4</th>\n",
       "      <th>5</th>\n",
       "      <th>6</th>\n",
       "      <th>7</th>\n",
       "      <th>8</th>\n",
       "      <th>9</th>\n",
       "      <th>10</th>\n",
       "    </tr>\n",
       "  </thead>\n",
       "  <tbody>\n",
       "    <tr>\n",
       "      <th>return</th>\n",
       "      <td>16.33%</td>\n",
       "      <td>16.36%</td>\n",
       "      <td>15.8%</td>\n",
       "      <td>13.21%</td>\n",
       "      <td>12.65%</td>\n",
       "      <td>14.29%</td>\n",
       "      <td>15.86%</td>\n",
       "      <td>17.75%</td>\n",
       "      <td>23.91%</td>\n",
       "      <td>27.21%</td>\n",
       "    </tr>\n",
       "    <tr>\n",
       "      <th>prob</th>\n",
       "      <td>0.3%</td>\n",
       "      <td>0.414%</td>\n",
       "      <td>0.51%</td>\n",
       "      <td>0.63%</td>\n",
       "      <td>0.82%</td>\n",
       "      <td>1.151%</td>\n",
       "      <td>1.773%</td>\n",
       "      <td>3.01%</td>\n",
       "      <td>5.832%</td>\n",
       "      <td>18.763%</td>\n",
       "    </tr>\n",
       "    <tr>\n",
       "      <th>risk</th>\n",
       "      <td>17.52%</td>\n",
       "      <td>19.25%</td>\n",
       "      <td>20.81%</td>\n",
       "      <td>23.26%</td>\n",
       "      <td>26.12%</td>\n",
       "      <td>29.2%</td>\n",
       "      <td>32.43%</td>\n",
       "      <td>36.11%</td>\n",
       "      <td>41.83%</td>\n",
       "      <td>50.84%</td>\n",
       "    </tr>\n",
       "    <tr>\n",
       "      <th>Sharpe</th>\n",
       "      <td>0.802311</td>\n",
       "      <td>0.734186</td>\n",
       "      <td>0.652144</td>\n",
       "      <td>0.477262</td>\n",
       "      <td>0.405025</td>\n",
       "      <td>0.418164</td>\n",
       "      <td>0.424978</td>\n",
       "      <td>0.435359</td>\n",
       "      <td>0.5216</td>\n",
       "      <td>0.497464</td>\n",
       "    </tr>\n",
       "  </tbody>\n",
       "</table>\n",
       "</div>"
      ],
      "text/plain": [
       "bin           1         2         3         4         5         6         7   \\\n",
       "return    16.33%    16.36%     15.8%    13.21%    12.65%    14.29%    15.86%   \n",
       "prob        0.3%    0.414%     0.51%     0.63%     0.82%    1.151%    1.773%   \n",
       "risk      17.52%    19.25%    20.81%    23.26%    26.12%     29.2%    32.43%   \n",
       "Sharpe  0.802311  0.734186  0.652144  0.477262  0.405025  0.418164  0.424978   \n",
       "\n",
       "bin           8       9         10  \n",
       "return    17.75%  23.91%    27.21%  \n",
       "prob       3.01%  5.832%   18.763%  \n",
       "risk      36.11%  41.83%    50.84%  \n",
       "Sharpe  0.435359  0.5216  0.497464  "
      ]
     },
     "execution_count": 23,
     "metadata": {},
     "output_type": "execute_result"
    }
   ],
   "source": [
    "cols = ['NITA','TLTA','CASHMTA','EXRET','PRC','SIGMA','SIGMA_TLTA','averageWordsPerParagraph'] \n",
    "#tx_rf_ports_words = backtest(exclude_text, start=1997, end=2018, cols=cols, model='R')\n",
    "print(tx_rf_ports_words.F)\n",
    "tx_rf_ports_words.main.T[['return','prob','risk','Sharpe']].T"
   ]
  },
  {
   "cell_type": "code",
   "execution_count": 24,
   "metadata": {
    "collapsed": true
   },
   "outputs": [
    {
     "name": "stdout",
     "output_type": "stream",
     "text": [
      "           Months    F-Stat  Avg |alpha|  Avg R-2\n",
      "1997-2018   264.0  1.839888      0.00427   0.8339\n"
     ]
    },
    {
     "data": {
      "text/html": [
       "<div>\n",
       "<style scoped>\n",
       "    .dataframe tbody tr th:only-of-type {\n",
       "        vertical-align: middle;\n",
       "    }\n",
       "\n",
       "    .dataframe tbody tr th {\n",
       "        vertical-align: top;\n",
       "    }\n",
       "\n",
       "    .dataframe thead th {\n",
       "        text-align: right;\n",
       "    }\n",
       "</style>\n",
       "<table border=\"1\" class=\"dataframe\">\n",
       "  <thead>\n",
       "    <tr style=\"text-align: right;\">\n",
       "      <th>bin</th>\n",
       "      <th>1</th>\n",
       "      <th>2</th>\n",
       "      <th>3</th>\n",
       "      <th>4</th>\n",
       "      <th>5</th>\n",
       "      <th>6</th>\n",
       "      <th>7</th>\n",
       "      <th>8</th>\n",
       "      <th>9</th>\n",
       "      <th>10</th>\n",
       "    </tr>\n",
       "  </thead>\n",
       "  <tbody>\n",
       "    <tr>\n",
       "      <th>return</th>\n",
       "      <td>13.1%</td>\n",
       "      <td>16.87%</td>\n",
       "      <td>15.99%</td>\n",
       "      <td>13.79%</td>\n",
       "      <td>13.75%</td>\n",
       "      <td>15.24%</td>\n",
       "      <td>15.91%</td>\n",
       "      <td>18.52%</td>\n",
       "      <td>20.28%</td>\n",
       "      <td>32.42%</td>\n",
       "    </tr>\n",
       "    <tr>\n",
       "      <th>prob</th>\n",
       "      <td>0.273%</td>\n",
       "      <td>0.436%</td>\n",
       "      <td>0.549%</td>\n",
       "      <td>0.675%</td>\n",
       "      <td>0.873%</td>\n",
       "      <td>1.205%</td>\n",
       "      <td>1.835%</td>\n",
       "      <td>3.109%</td>\n",
       "      <td>5.997%</td>\n",
       "      <td>18.863%</td>\n",
       "    </tr>\n",
       "    <tr>\n",
       "      <th>risk</th>\n",
       "      <td>17.58%</td>\n",
       "      <td>19.44%</td>\n",
       "      <td>21.46%</td>\n",
       "      <td>23.57%</td>\n",
       "      <td>25.65%</td>\n",
       "      <td>28.69%</td>\n",
       "      <td>32.71%</td>\n",
       "      <td>35.29%</td>\n",
       "      <td>41.3%</td>\n",
       "      <td>50.75%</td>\n",
       "    </tr>\n",
       "    <tr>\n",
       "      <th>Sharpe</th>\n",
       "      <td>0.620499</td>\n",
       "      <td>0.752927</td>\n",
       "      <td>0.641614</td>\n",
       "      <td>0.49393</td>\n",
       "      <td>0.454544</td>\n",
       "      <td>0.458041</td>\n",
       "      <td>0.422175</td>\n",
       "      <td>0.466655</td>\n",
       "      <td>0.441698</td>\n",
       "      <td>0.59882</td>\n",
       "    </tr>\n",
       "  </tbody>\n",
       "</table>\n",
       "</div>"
      ],
      "text/plain": [
       "bin           1         2         3        4         5         6         7   \\\n",
       "return     13.1%    16.87%    15.99%   13.79%    13.75%    15.24%    15.91%   \n",
       "prob      0.273%    0.436%    0.549%   0.675%    0.873%    1.205%    1.835%   \n",
       "risk      17.58%    19.44%    21.46%   23.57%    25.65%    28.69%    32.71%   \n",
       "Sharpe  0.620499  0.752927  0.641614  0.49393  0.454544  0.458041  0.422175   \n",
       "\n",
       "bin           8         9        10  \n",
       "return    18.52%    20.28%   32.42%  \n",
       "prob      3.109%    5.997%  18.863%  \n",
       "risk      35.29%     41.3%   50.75%  \n",
       "Sharpe  0.466655  0.441698  0.59882  "
      ]
     },
     "execution_count": 24,
     "metadata": {},
     "output_type": "execute_result"
    }
   ],
   "source": [
    "cols = ['NITA','TLTA','CASHMTA','EXRET','PRC','SIGMA','SIGMA_TLTA',\n",
    "        'FinTerms_Litigious','FinTerms_Positive','FinTerms_ModalWeak',\n",
    "        'FinTerms_Litigious_count','FinTerms_ModalStrong','averageWordsPerParagraph']\n",
    "#tx_rf_ports_all = backtest(exclude_text, start=1997, end=2018, cols=cols, model='R')\n",
    "print(tx_rf_ports_all.F)\n",
    "tx_rf_ports_all.main.T[['return','prob','risk','Sharpe']].T"
   ]
  },
  {
   "cell_type": "code",
   "execution_count": null,
   "metadata": {},
   "outputs": [
    {
     "name": "stdout",
     "output_type": "stream",
     "text": [
      "Portfolio Build Success 1997\n",
      "Portfolio Build Success 1998\n",
      "Portfolio Build Success 1999\n",
      "Portfolio Build Success 2000\n",
      "Portfolio Build Success 2001\n",
      "Portfolio Build Success 2002\n",
      "Portfolio Build Success 2003\n",
      "Portfolio Build Success 2004\n",
      "Portfolio Build Success 2005\n",
      "Portfolio Build Success 2006\n",
      "Portfolio Build Success 2007\n",
      "Portfolio Build Success 2008\n",
      "Portfolio Build Success 2009\n",
      "Portfolio Build Success 2010\n",
      "Portfolio Build Success 2011\n",
      "Portfolio Build Success 2012\n",
      "Portfolio Build Success 2013\n",
      "Portfolio Build Success 2014\n"
     ]
    }
   ],
   "source": [
    "cols = ['NITA','TLTA','CASHMTA','EXRET','PRC','SIGMA','SIGMA_TLTA',\n",
    "        'FinTerms_Litigious','FinTerms_Positive','FinTerms_ModalStrong']\n",
    "#tx_rf_ports_3 = backtest(exclude_text, start=1997, end=2018, cols=cols, model='R')\n",
    "print('All 3 Excluded RF Portfolio')\n",
    "print(tx_rf_ports_3.F)\n",
    "tx_rf_ports_3.main.T[['return','prob','risk','Sharpe']].T"
   ]
  },
  {
   "cell_type": "code",
   "execution_count": 29,
   "metadata": {},
   "outputs": [],
   "source": [
    "print(tx_ports.F)\n",
    "tx_ports.main.T[['return','prob','risk','Sharpe']].T\n",
    "#tx_ports.alphas.T"
   ]
  },
  {
   "cell_type": "code",
   "execution_count": null,
   "metadata": {},
   "outputs": [],
   "source": [
    "print(tx_rf_ports.F)\n",
    "tx_rf_ports.main.T[['return','prob','risk','Sharpe']].T\n",
    "#tx_ex_ports.main.T[['return','prob','risk','Sharpe']].T\n",
    "#tx_ex_ports.alphas.T"
   ]
  },
  {
   "cell_type": "markdown",
   "metadata": {},
   "source": [
    "### Exploration Sandbox"
   ]
  },
  {
   "cell_type": "code",
   "execution_count": 68,
   "metadata": {
    "collapsed": true
   },
   "outputs": [
    {
     "ename": "NameError",
     "evalue": "name 'ports' is not defined",
     "output_type": "error",
     "traceback": [
      "\u001b[1;31m---------------------------------------------------------------------------\u001b[0m",
      "\u001b[1;31mNameError\u001b[0m                                 Traceback (most recent call last)",
      "\u001b[1;32m<ipython-input-68-29177fee150f>\u001b[0m in \u001b[0;36m<module>\u001b[1;34m\u001b[0m\n\u001b[1;32m----> 1\u001b[1;33m \u001b[0mports\u001b[0m\u001b[1;33m\u001b[0m\u001b[1;33m\u001b[0m\u001b[0m\n\u001b[0m",
      "\u001b[1;31mNameError\u001b[0m: name 'ports' is not defined"
     ]
    }
   ],
   "source": [
    "ports"
   ]
  },
  {
   "cell_type": "code",
   "execution_count": 90,
   "metadata": {
    "collapsed": true
   },
   "outputs": [
    {
     "data": {
      "text/plain": [
       "(0.0    1864460\n",
       " 1.0      34713\n",
       " Name: financialDistress_12_periods, dtype: int64,\n",
       " 0.0    1302071\n",
       " 1.0      33436\n",
       " Name: financialDistress_12_periods, dtype: int64)"
      ]
     },
     "execution_count": 90,
     "metadata": {},
     "output_type": "execute_result"
    }
   ],
   "source": [
    "# bankrupcy counts\n",
    "d['financialDistress_12_periods'].value_counts(), exclude_df['financialDistress_12_periods'].value_counts()"
   ]
  },
  {
   "cell_type": "code",
   "execution_count": 18,
   "metadata": {
    "collapsed": true
   },
   "outputs": [
    {
     "data": {
      "text/plain": [
       "<matplotlib.axes._subplots.AxesSubplot at 0x24009157108>"
      ]
     },
     "execution_count": 18,
     "metadata": {},
     "output_type": "execute_result"
    },
    {
     "data": {
      "image/png": "[encoded data removed]",
      "text/plain": [
       "<Figure size 432x288 with 1 Axes>"
      ]
     },
     "metadata": {
      "needs_background": "light"
     },
     "output_type": "display_data"
    },
    {
     "data": {
      "image/png": "[encoded data removed]",
      "text/plain": [
       "<Figure size 432x288 with 1 Axes>"
      ]
     },
     "metadata": {
      "needs_background": "light"
     },
     "output_type": "display_data"
    }
   ],
   "source": [
    "# justification for bin count\n",
    "t = d.copy()\n",
    "t = t[t['year'].between(1975,2018)]\n",
    "t = t.groupby('date_month')[['RET']].count()/10\n",
    "t.plot()\n",
    "t = exclude_df.copy()\n",
    "t = t[t['year'].between(1975,2018)]\n",
    "t = t.groupby('date_month')[['RET']].count()/10\n",
    "t.plot()"
   ]
  },
  {
   "cell_type": "code",
   "execution_count": 30,
   "metadata": {
    "collapsed": true
   },
   "outputs": [
    {
     "data": {
      "text/plain": [
       "<matplotlib.axes._subplots.AxesSubplot at 0x14ecf6ca248>"
      ]
     },
     "execution_count": 30,
     "metadata": {},
     "output_type": "execute_result"
    },
    {
     "data": {
      "image/png": "[encoded data removed]",
      "text/plain": [
       "<Figure size 432x288 with 1 Axes>"
      ]
     },
     "metadata": {
      "needs_background": "light"
     },
     "output_type": "display_data"
    }
   ],
   "source": [
    "# explore probs per bin over time\n",
    "ports_df = ports.ports.copy()\n",
    "probs = pd.DataFrame()\n",
    "for b in range(1,11):\n",
    "    t = ports_df[ports_df.bin == b]\n",
    "    probs[b] = t.groupby('year')['Prob'].mean()\n",
    "\n",
    "probs.plot()"
   ]
  },
  {
   "cell_type": "code",
   "execution_count": 31,
   "metadata": {
    "collapsed": true
   },
   "outputs": [
    {
     "data": {
      "text/plain": [
       "<matplotlib.axes._subplots.AxesSubplot at 0x14e90268088>"
      ]
     },
     "execution_count": 31,
     "metadata": {},
     "output_type": "execute_result"
    },
    {
     "data": {
      "image/png": "[encoded data removed]",
      "text/plain": [
       "<Figure size 432x288 with 1 Axes>"
      ]
     },
     "metadata": {
      "needs_background": "light"
     },
     "output_type": "display_data"
    }
   ],
   "source": [
    "# explore return per bin over time\n",
    "ports_df = ports.ports.copy()\n",
    "returns = pd.DataFrame()\n",
    "for b in range(1,11):\n",
    "    t = ports_df[ports_df.bin == b]\n",
    "    returns[b] = t.groupby('year')['return'].mean()\n",
    "\n",
    "returns.plot()"
   ]
  },
  {
   "cell_type": "code",
   "execution_count": 51,
   "metadata": {
    "collapsed": true
   },
   "outputs": [
    {
     "data": {
      "text/plain": [
       "<matplotlib.axes._subplots.AxesSubplot at 0x14e9079ab08>"
      ]
     },
     "execution_count": 51,
     "metadata": {},
     "output_type": "execute_result"
    },
    {
     "data": {
      "image/png": "[encoded data removed]",
      "text/plain": [
       "<Figure size 432x288 with 1 Axes>"
      ]
     },
     "metadata": {
      "needs_background": "light"
     },
     "output_type": "display_data"
    }
   ],
   "source": [
    "# explore cumulative return per bin over time\n",
    "ports_df = ports.ports.copy()\n",
    "cumms = pd.DataFrame()\n",
    "for b in range(1,11):\n",
    "    t = ports_df[ports_df.bin == b]['return'].reset_index(drop=True)\n",
    "    cumm = [1]\n",
    "    for i in range(t.shape[0]):\n",
    "        cumm += [cumm[-1]*(1+t[i])]\n",
    "    cumms[b] = cumm\n",
    "    \n",
    "cumms['date_month'] = pd.DataFrame(ports_df['date_month'].unique())\n",
    "cumms = cumms.set_index('date_month')\n",
    "cumms.iloc[:-1,].plot()"
   ]
  },
  {
   "cell_type": "code",
   "execution_count": 152,
   "metadata": {},
   "outputs": [
    {
     "data": {
      "text/html": [
       "<div>\n",
       "<style scoped>\n",
       "    .dataframe tbody tr th:only-of-type {\n",
       "        vertical-align: middle;\n",
       "    }\n",
       "\n",
       "    .dataframe tbody tr th {\n",
       "        vertical-align: top;\n",
       "    }\n",
       "\n",
       "    .dataframe thead th {\n",
       "        text-align: right;\n",
       "    }\n",
       "</style>\n",
       "<table border=\"1\" class=\"dataframe\">\n",
       "  <thead>\n",
       "    <tr style=\"text-align: right;\">\n",
       "      <th></th>\n",
       "      <th>count</th>\n",
       "      <th>distress count</th>\n",
       "      <th>True Prob</th>\n",
       "      <th>Prob</th>\n",
       "    </tr>\n",
       "    <tr>\n",
       "      <th>bin</th>\n",
       "      <th></th>\n",
       "      <th></th>\n",
       "      <th></th>\n",
       "      <th></th>\n",
       "    </tr>\n",
       "  </thead>\n",
       "  <tbody>\n",
       "    <tr>\n",
       "      <th>1</th>\n",
       "      <td>94606</td>\n",
       "      <td>247.0</td>\n",
       "      <td>0.002611</td>\n",
       "      <td>0.002354</td>\n",
       "    </tr>\n",
       "    <tr>\n",
       "      <th>2</th>\n",
       "      <td>94472</td>\n",
       "      <td>278.0</td>\n",
       "      <td>0.002943</td>\n",
       "      <td>0.002923</td>\n",
       "    </tr>\n",
       "    <tr>\n",
       "      <th>3</th>\n",
       "      <td>94451</td>\n",
       "      <td>349.0</td>\n",
       "      <td>0.003695</td>\n",
       "      <td>0.003286</td>\n",
       "    </tr>\n",
       "    <tr>\n",
       "      <th>4</th>\n",
       "      <td>94482</td>\n",
       "      <td>527.0</td>\n",
       "      <td>0.005578</td>\n",
       "      <td>0.003983</td>\n",
       "    </tr>\n",
       "    <tr>\n",
       "      <th>5</th>\n",
       "      <td>94497</td>\n",
       "      <td>635.0</td>\n",
       "      <td>0.006720</td>\n",
       "      <td>0.005839</td>\n",
       "    </tr>\n",
       "    <tr>\n",
       "      <th>6</th>\n",
       "      <td>94422</td>\n",
       "      <td>842.0</td>\n",
       "      <td>0.008917</td>\n",
       "      <td>0.009793</td>\n",
       "    </tr>\n",
       "    <tr>\n",
       "      <th>7</th>\n",
       "      <td>94453</td>\n",
       "      <td>1140.0</td>\n",
       "      <td>0.012069</td>\n",
       "      <td>0.016636</td>\n",
       "    </tr>\n",
       "    <tr>\n",
       "      <th>8</th>\n",
       "      <td>94480</td>\n",
       "      <td>1732.0</td>\n",
       "      <td>0.018332</td>\n",
       "      <td>0.026890</td>\n",
       "    </tr>\n",
       "    <tr>\n",
       "      <th>9</th>\n",
       "      <td>94443</td>\n",
       "      <td>3563.0</td>\n",
       "      <td>0.037726</td>\n",
       "      <td>0.043007</td>\n",
       "    </tr>\n",
       "    <tr>\n",
       "      <th>10</th>\n",
       "      <td>94581</td>\n",
       "      <td>14864.0</td>\n",
       "      <td>0.157156</td>\n",
       "      <td>0.133929</td>\n",
       "    </tr>\n",
       "  </tbody>\n",
       "</table>\n",
       "</div>"
      ],
      "text/plain": [
       "     count  distress count  True Prob      Prob\n",
       "bin                                            \n",
       "1    94606           247.0   0.002611  0.002354\n",
       "2    94472           278.0   0.002943  0.002923\n",
       "3    94451           349.0   0.003695  0.003286\n",
       "4    94482           527.0   0.005578  0.003983\n",
       "5    94497           635.0   0.006720  0.005839\n",
       "6    94422           842.0   0.008917  0.009793\n",
       "7    94453          1140.0   0.012069  0.016636\n",
       "8    94480          1732.0   0.018332  0.026890\n",
       "9    94443          3563.0   0.037726  0.043007\n",
       "10   94581         14864.0   0.157156  0.133929"
      ]
     },
     "execution_count": 152,
     "metadata": {},
     "output_type": "execute_result"
    }
   ],
   "source": [
    "# explore portfolios deeper\n",
    "t = tx_ports.bin_data.copy()\n",
    "cols = ['NITA','TLTA','CASHMTA','EXRET','RSIZE','PRC','SIGMA','SIGMA_TLTA','financialDistress_12_periods','RET-shifted','Prob'] \n",
    "cols = ['NITA','TLTA','CASHMTA','EXRET','RSIZE','PRC','SIGMA','SIGMA_TLTA','Prob','financialDistress_12_periods'] \n",
    "t2 = t.groupby('bin')[cols].mean()#.sort_values(by='Prob')\n",
    "t2['count'] = t.groupby('bin')['NITA'].count()\n",
    "t2['distress count'] = t.groupby('bin')['financialDistress_12_periods'].sum()\n",
    "cols = ['count','distress count','True Prob','Prob']\n",
    "t2.rename(columns={'financialDistress_12_periods':'True Prob'})[cols]"
   ]
  },
  {
   "cell_type": "code",
   "execution_count": null,
   "metadata": {},
   "outputs": [],
   "source": []
  }
 ],
 "metadata": {
  "kernelspec": {
   "display_name": "Python 3",
   "language": "python",
   "name": "python3"
  },
  "language_info": {
   "codemirror_mode": {
    "name": "ipython",
    "version": 3
   },
   "file_extension": ".py",
   "mimetype": "text/x-python",
   "name": "python",
   "nbconvert_exporter": "python",
   "pygments_lexer": "ipython3",
   "version": "3.7.4"
  }
 },
 "nbformat": 4,
 "nbformat_minor": 4
}
